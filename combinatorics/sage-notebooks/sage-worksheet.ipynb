{
 "cells": [
  {
   "cell_type": "code",
   "execution_count": 65,
   "id": "da453447",
   "metadata": {},
   "outputs": [],
   "source": [
    "import sage.combinat.q_analogues as q\n",
    "import sage.combinat.combinat as comb\n",
    "q_int = q.q_int\n",
    "cat = comb.catalan_number"
   ]
  },
  {
   "cell_type": "code",
   "execution_count": 66,
   "id": "679472e4",
   "metadata": {},
   "outputs": [
    {
     "name": "stderr",
     "output_type": "stream",
     "text": [
      "/tmp/ipykernel_60852/474006477.py:57: UserWarning: This figure includes Axes that are not compatible with tight_layout, so results might be incorrect.\n",
      "  plt.tight_layout()\n"
     ]
    },
    {
     "data": {
      "image/png": "[encoded data removed]",
      "text/plain": [
       "<Figure size 1152x288 with 5 Axes>"
      ]
     },
     "metadata": {
      "needs_background": "light"
     },
     "output_type": "display_data"
    }
   ],
   "source": [
    "import numpy as np\n",
    "import matplotlib.pyplot as plt\n",
    "\n",
    "# Define the tensor data\n",
    "tensor = np.array([\n",
    "    [\n",
    "        [0, 7, 4, 1],\n",
    "        [7, 4, 1, 0],\n",
    "        [4, 1, 0, 0],\n",
    "        [1, 0, 0, 0]\n",
    "    ],\n",
    "    [\n",
    "        [7, 4, 1, 0],\n",
    "        [4, 1, 0, 0],\n",
    "        [1, 0, 0, 0],\n",
    "        [0, 0, 0, 0]\n",
    "    ],\n",
    "    [\n",
    "        [4, 1, 0, 0],\n",
    "        [1, 0, 0, 0],\n",
    "        [0, 0, 0, 0],\n",
    "        [0, 0, 0, 0]\n",
    "    ],\n",
    "    [\n",
    "        [1, 0, 0, 0],\n",
    "        [0, 0, 0, 0],\n",
    "        [0, 0, 0, 0],\n",
    "        [0, 0, 0, 0]\n",
    "    ]\n",
    "])\n",
    "\n",
    "# Create a figure and set of subplots\n",
    "fig, axes = plt.subplots(1, 4, figsize=(16, 4))\n",
    "\n",
    "# Titles for each subplot\n",
    "titles = ['k0 = 1', 'k0 = 2', 'k0 = 3', 'k0 = 4']\n",
    "\n",
    "# Plot each 2D slice\n",
    "for i, ax in enumerate(axes):\n",
    "    im = ax.imshow(tensor[i], cmap='viridis', aspect='auto')\n",
    "    ax.set_title(titles[i])\n",
    "    ax.set_xlabel('k1')\n",
    "    ax.set_ylabel('k2')\n",
    "\n",
    "    # Adding gridlines and setting ticks\n",
    "    ax.set_xticks(range(4))\n",
    "    ax.set_yticks(range(4))\n",
    "    ax.grid(True, which='both', color='black', linestyle='-', linewidth=0.5)\n",
    "\n",
    "    # Adding annotations\n",
    "    for j in range(4):\n",
    "        for k in range(4):\n",
    "            ax.text(k, j, tensor[i, j, k], ha='center', va='center', color='white')\n",
    "\n",
    "# Adjust layout and color bar\n",
    "fig.colorbar(im, ax=axes.ravel().tolist(), shrink=0.6)\n",
    "plt.tight_layout()\n",
    "plt.show()\n"
   ]
  },
  {
   "cell_type": "code",
   "execution_count": 67,
   "id": "9d24340e",
   "metadata": {},
   "outputs": [],
   "source": [
    "def r(n, k):\n",
    "    if k == 0:\n",
    "        return comb.catalan_number(n)\n",
    "    if k > n:\n",
    "        return 0\n",
    "    ans = 0\n",
    "    for i in range(k-1, n):\n",
    "        ans += r(n-1, i)\n",
    "    return ans"
   ]
  },
  {
   "cell_type": "code",
   "execution_count": 68,
   "id": "bcf4094b",
   "metadata": {},
   "outputs": [],
   "source": [
    "def qp(n):\n",
    "    return (q_int(2) - 1)**n"
   ]
  },
  {
   "cell_type": "code",
   "execution_count": 69,
   "id": "a3ca8bc0",
   "metadata": {},
   "outputs": [
    {
     "data": {
      "text/plain": [
       "q^2 + q + 1"
      ]
     },
     "execution_count": 69,
     "metadata": {},
     "output_type": "execute_result"
    }
   ],
   "source": [
    "q_int(3)"
   ]
  },
  {
   "cell_type": "code",
   "execution_count": 70,
   "id": "a462a688",
   "metadata": {},
   "outputs": [
    {
     "data": {
      "text/plain": [
       "q^5"
      ]
     },
     "execution_count": 70,
     "metadata": {},
     "output_type": "execute_result"
    }
   ],
   "source": [
    "qp(5)"
   ]
  },
  {
   "cell_type": "code",
   "execution_count": 71,
   "id": "0647d653",
   "metadata": {},
   "outputs": [
    {
     "name": "stdout",
     "output_type": "stream",
     "text": [
      "1\tCat:1 XX\n",
      "1\t1\tCat:1 XX\n",
      "2\t2\t1\tCat:2 XX\n",
      "5\t5\t3\t1\tCat:5 XX\n",
      "14\t14\t9\t4\t1\tCat:14 XX\n",
      "42\t42\t28\t14\t5\t1\tCat:42 XX\n",
      "132\t132\t90\t48\t20\t6\t1\tCat:132 XX\n",
      "429\t429\t297\t165\t75\t27\t7\t1\tCat:429 XX\n",
      "1430\t1430\t1001\t572\t275\t110\t35\t8\t1\tCat:1430 XX\n",
      "4862\t4862\t3432\t2002\t1001\t429\t154\t44\t9\t1\tCat:4862 XX\n"
     ]
    }
   ],
   "source": [
    "for n in range(10):\n",
    "    for k in range(n+1):\n",
    "        print(r(n, k), end = \"\\t\")\n",
    "    print(f\"Cat:{cat(n)}\",end = \" XX\")\n",
    "    print()"
   ]
  },
  {
   "cell_type": "code",
   "execution_count": 72,
   "id": "244b998f",
   "metadata": {},
   "outputs": [],
   "source": [
    "def rem(n):\n",
    "    return sum([r(n-2, k)*qp(k)*q_int(n-2-k) for k in range(n-1)])"
   ]
  },
  {
   "cell_type": "code",
   "execution_count": 73,
   "id": "71f7b7f8",
   "metadata": {},
   "outputs": [],
   "source": [
    "def rem2(n):\n",
    "#     n-=2\n",
    "    return sum([r(n, k)*q_int(k) for k in range(n+1)])"
   ]
  },
  {
   "cell_type": "code",
   "execution_count": 74,
   "id": "66ae62cd",
   "metadata": {},
   "outputs": [],
   "source": [
    "def q_Cat(n):\n",
    "    if n == 0 or n==1:\n",
    "        return 1\n",
    "    return (q_int(n)*q_Cat(n-1) - q_int(n-2)*(cat(n-1)) + rem2(n-2))/(qp(n-2))"
   ]
  },
  {
   "cell_type": "code",
   "execution_count": 75,
   "id": "b1031c4e",
   "metadata": {},
   "outputs": [
    {
     "data": {
      "text/plain": [
       "q^2 + 2*q + 2"
      ]
     },
     "execution_count": 75,
     "metadata": {},
     "output_type": "execute_result"
    }
   ],
   "source": [
    "q_Cat(3)"
   ]
  },
  {
   "cell_type": "code",
   "execution_count": 76,
   "id": "9f9500ec",
   "metadata": {},
   "outputs": [
    {
     "name": "stdout",
     "output_type": "stream",
     "text": [
      "0 0\n",
      "1 1\n",
      "2 q + 3\n",
      "3 q^2 + 4*q + 9\n",
      "4 q^3 + 5*q^2 + 14*q + 28\n",
      "5 q^4 + 6*q^3 + 20*q^2 + 48*q + 90\n",
      "6 q^5 + 7*q^4 + 27*q^3 + 75*q^2 + 165*q + 297\n",
      "7 q^6 + 8*q^5 + 35*q^4 + 110*q^3 + 275*q^2 + 572*q + 1001\n",
      "8 q^7 + 9*q^6 + 44*q^5 + 154*q^4 + 429*q^3 + 1001*q^2 + 2002*q + 3432\n",
      "9 q^8 + 10*q^7 + 54*q^6 + 208*q^5 + 637*q^4 + 1638*q^3 + 3640*q^2 + 7072*q + 11934\n"
     ]
    }
   ],
   "source": [
    "for n in range(10):\n",
    "    \n",
    "    print(n, rem2(n)) "
   ]
  },
  {
   "cell_type": "code",
   "execution_count": 77,
   "id": "90f4f8be",
   "metadata": {},
   "outputs": [],
   "source": [
    "C, z = var('C,z')                                                             # needs sage.symbolic\n",
    "sys = [ C == z + C*C ]                                                        "
   ]
  },
  {
   "cell_type": "code",
   "execution_count": 78,
   "id": "acabb5cb",
   "metadata": {},
   "outputs": [],
   "source": [
    "sol = solve(sys, C, solution_dict=True); sol                                  # needs sage.symbolic\n",
    "# [{C: -1/2*sqrt(-4*z + 1) + 1/2}, {C: 1/2*sqrt(-4*z + 1) + 1/2}]\n",
    "s0 = sol[0][C]; s1 = sol[1][C]     "
   ]
  },
  {
   "cell_type": "code",
   "execution_count": 79,
   "id": "a788b2e5",
   "metadata": {},
   "outputs": [],
   "source": [
    "r2 = s0*(1-3*z + z*z)"
   ]
  },
  {
   "cell_type": "code",
   "execution_count": 80,
   "id": "be39808f",
   "metadata": {},
   "outputs": [
    {
     "data": {
      "text/plain": [
       "1*z + (-2)*z^2 + 1*z^5 + 5*z^6 + 20*z^7 + 75*z^8 + 275*z^9 + Order(z^10)"
      ]
     },
     "execution_count": 80,
     "metadata": {},
     "output_type": "execute_result"
    }
   ],
   "source": [
    "r2.series(z, 10)"
   ]
  },
  {
   "cell_type": "code",
   "execution_count": 81,
   "id": "466b2114",
   "metadata": {},
   "outputs": [
    {
     "name": "stdout",
     "output_type": "stream",
     "text": [
      "[[1, 1, 1], [1, 1, 2], [1, 1, 3], [1, 2, 2], [1, 2, 3]]\n"
     ]
    }
   ],
   "source": [
    "import sage.combinat.non_decreasing_parking_function as PD\n",
    "print(PD.NonDecreasingParkingFunctions(3).list())"
   ]
  },
  {
   "cell_type": "code",
   "execution_count": 82,
   "id": "6b74c9da",
   "metadata": {},
   "outputs": [
    {
     "name": "stdout",
     "output_type": "stream",
     "text": [
      "[[1, 1, 1, 1], [1, 1, 1, 2], [1, 1, 1, 3], [1, 1, 1, 4], [1, 1, 2, 2], [1, 1, 2, 3], [1, 1, 2, 4], [1, 1, 3, 3], [1, 1, 3, 4], [1, 2, 2, 2], [1, 2, 2, 3], [1, 2, 2, 4], [1, 2, 3, 3], [1, 2, 3, 4]]\n"
     ]
    }
   ],
   "source": [
    "pd = lambda n: PD.NonDecreasingParkingFunctions(n).list()\n",
    "print(pd(4))"
   ]
  },
  {
   "cell_type": "code",
   "execution_count": 83,
   "id": "f806d053",
   "metadata": {},
   "outputs": [],
   "source": [
    "def fp(p):\n",
    "    count = 0\n",
    "    for i, pi in enumerate(p):\n",
    "        if i+1 == pi:\n",
    "            count+=1\n",
    "    return count\n",
    "def mx(p): return p[-1]\n",
    "def knd(p): return len(set(p))\n",
    "def freq(p): return len([i for i in p if i == 1])\n",
    "def bump(p, n): return len([i for j,i in enumerate(p) if j+1 - n == i])"
   ]
  },
  {
   "cell_type": "code",
   "execution_count": 84,
   "id": "54a0266e",
   "metadata": {},
   "outputs": [
    {
     "name": "stdout",
     "output_type": "stream",
     "text": [
      "[1, 1, 1] 1 1\n",
      "[1, 1, 2] 2 1\n",
      "[1, 1, 3] 2 2\n",
      "[1, 2, 2] 2 2\n",
      "[1, 2, 3] 3 3\n"
     ]
    }
   ],
   "source": [
    "for p in pd(3):\n",
    "    print(p, knd(p), fp(p))"
   ]
  },
  {
   "cell_type": "code",
   "execution_count": 85,
   "id": "e9c5b7d8",
   "metadata": {},
   "outputs": [
    {
     "name": "stdout",
     "output_type": "stream",
     "text": [
      "0 2 2 1\n",
      "2 2 1 0\n",
      "2 1 0 0\n",
      "1 0 0 0\n"
     ]
    }
   ],
   "source": [
    "n = 4\n",
    "table = [[0]*(n) for i in range(n)]\n",
    "for p in pd(n):\n",
    "    table[bump(p, 0)-1][n - mx(p)] += 1\n",
    "\n",
    "for row in table:\n",
    "    print(*row)\n"
   ]
  },
  {
   "cell_type": "code",
   "execution_count": 86,
   "id": "8232b2b8",
   "metadata": {},
   "outputs": [
    {
     "name": "stdout",
     "output_type": "stream",
     "text": [
      "0 2 2 1\n",
      "2 2 1 0\n",
      "2 1 0 0\n",
      "1 0 0 0\n"
     ]
    }
   ],
   "source": [
    "n = 4\n",
    "table = [[0]*(n) for i in range(n)]\n",
    "for p in pd(n):\n",
    "    table[bump(p, 0)-1][n - mx(p)] += 1\n",
    "\n",
    "for row in table:\n",
    "    print(*row)"
   ]
  },
  {
   "cell_type": "code",
   "execution_count": 87,
   "id": "abf44240",
   "metadata": {},
   "outputs": [
    {
     "name": "stdout",
     "output_type": "stream",
     "text": [
      "0 5 5 3 1\n",
      "5 5 3 1 0\n",
      "5 3 1 0 0\n",
      "3 1 0 0 0\n",
      "1 0 0 0 0\n"
     ]
    }
   ],
   "source": [
    "n = 5\n",
    "table = [[0]*(n) for i in range(n)]\n",
    "for p in pd(n):\n",
    "    table[fp(p)-1][freq(p)-1] += 1\n",
    "\n",
    "for row in table:\n",
    "    print(*row)"
   ]
  },
  {
   "cell_type": "code",
   "execution_count": 88,
   "id": "f2164d08",
   "metadata": {},
   "outputs": [
    {
     "name": "stdout",
     "output_type": "stream",
     "text": [
      "14 14 9 4 1 0\n",
      "14 14 9 4 1 0\n",
      "9 9 6 3 1 0\n",
      "4 4 3 2 1 0\n",
      "1 1 1 1 1 0\n",
      "0 0 0 0 0 1\n"
     ]
    }
   ],
   "source": [
    "n = 6\n",
    "table = [[0]*(n) for i in range(n)]\n",
    "for p in pd(n):\n",
    "    table[n - mx(p)][freq(p)-1] += 1\n",
    "\n",
    "for row in table:\n",
    "    print(*row)"
   ]
  },
  {
   "cell_type": "code",
   "execution_count": 89,
   "id": "f2526426",
   "metadata": {},
   "outputs": [],
   "source": [
    "# n = 6\n",
    "# table = [[[0]*(n) for i in range(n)] for o in range(n)]\n",
    "# for p in pd(n):\n",
    "#     table[n - mx(p)][freq(p)-1][fp(p)-1] += 1\n",
    "\n",
    "# for plane in table:\n",
    "# #     for row in plane:\n",
    "#     print(plane, end = n)\n",
    "    \n"
   ]
  },
  {
   "cell_type": "code",
   "execution_count": 90,
   "id": "5e8bfc93",
   "metadata": {
    "scrolled": true
   },
   "outputs": [
    {
     "name": "stdout",
     "output_type": "stream",
     "text": [
      "[{C: -1/2*(sqrt(-4*z + 1) - 1)/z}, {C: 1/2*(sqrt(-4*z + 1) + 1)/z}] [{Cq: 2/(q*sqrt(-4*z + 1) - q + 2)}]\n"
     ]
    }
   ],
   "source": [
    "C, z , q, Cq= var('C,z, q, Cq')                                                             # needs sage.symbolic\n",
    "sys = [ C == 1 + z*C*C ]   \n",
    "sol = solve(sys, C, solution_dict=True); sol  \n",
    "sys2 = [ Cq == 1 + q*z*(-1/2*(sqrt(-4*z + 1) - 1)/z)*Cq ] # needs sage.symbolic\n",
    "sol2 = solve(sys2, Cq, solution_dict=True); sol2\n",
    "# [{C: -1/2*sqrt(-4*z + 1) + 1/2}, {C: 1/2*sqrt(-4*z + 1) + 1/2}]\n",
    "# s0 = sol[0][Cq]; s1 = sol[1][Cq]\n",
    "c0 = sol2[0][Cq]\n",
    "print(sol, sol2)"
   ]
  },
  {
   "cell_type": "code",
   "execution_count": 91,
   "id": "2a4250f4",
   "metadata": {},
   "outputs": [
    {
     "data": {
      "text/plain": [
       "1 + (q)*z + (q^2 + q)*z^2 + Order(z^3)"
      ]
     },
     "execution_count": 91,
     "metadata": {},
     "output_type": "execute_result"
    }
   ],
   "source": [
    "c0.series(z, 3)"
   ]
  },
  {
   "cell_type": "code",
   "execution_count": 92,
   "id": "ac5b1d4c",
   "metadata": {},
   "outputs": [],
   "source": [
    "def pd_m(n, m):\n",
    "    if n == 1:\n",
    "        return [[1]]\n",
    "    pd_prev = pd_m(n-1, m)\n",
    "    ans = []\n",
    "    for pds in pd_prev:\n",
    "        for i in range(pds[-1], m*n - m + 2):\n",
    "            ans.append(pds + [i])\n",
    "    return ans"
   ]
  },
  {
   "cell_type": "code",
   "execution_count": 95,
   "id": "9d4089c8",
   "metadata": {},
   "outputs": [
    {
     "name": "stdout",
     "output_type": "stream",
     "text": [
      "[1, 1, 1, 2, 4, 6]\n",
      "[1, 1, 2, 2, 4, 6]\n",
      "[1, 1, 2, 3, 4, 6]\n",
      "[1, 1, 2, 4, 4, 6]\n",
      "[1, 1, 2, 4, 5, 6]\n",
      "[1, 2, 2, 2, 4, 6]\n",
      "[1, 2, 2, 3, 4, 6]\n",
      "[1, 2, 2, 4, 4, 6]\n",
      "[1, 2, 2, 4, 5, 6]\n",
      "[1, 2, 3, 3, 4, 6]\n",
      "[1, 2, 3, 4, 4, 6]\n",
      "[1, 2, 3, 4, 5, 6]\n"
     ]
    }
   ],
   "source": [
    "for p in cat_p(3, 2):\n",
    "    print(p)"
   ]
  },
  {
   "cell_type": "code",
   "execution_count": 96,
   "id": "b0703811",
   "metadata": {},
   "outputs": [],
   "source": [
    "def cat_p(n, m):\n",
    "\n",
    "    res = pd_m(n, m)\n",
    "    if m == 1:\n",
    "        return res\n",
    "    ans = []\n",
    "    for p in res:\n",
    "        p.extend([i for i in range(1, m*n+1) if i%m != 1])\n",
    "        ans.append(sorted(p))\n",
    "    return ans"
   ]
  },
  {
   "cell_type": "code",
   "execution_count": 97,
   "id": "5b3f5527",
   "metadata": {},
   "outputs": [
    {
     "name": "stdout",
     "output_type": "stream",
     "text": [
      "[1, 1, 1, 2, 4, 6]\n",
      "[1, 1, 2, 2, 4, 6]\n",
      "[1, 1, 2, 3, 4, 6]\n",
      "[1, 1, 2, 4, 4, 6]\n",
      "[1, 1, 2, 4, 5, 6]\n",
      "[1, 2, 2, 2, 4, 6]\n",
      "[1, 2, 2, 3, 4, 6]\n",
      "[1, 2, 2, 4, 4, 6]\n",
      "[1, 2, 2, 4, 5, 6]\n",
      "[1, 2, 3, 3, 4, 6]\n",
      "[1, 2, 3, 4, 4, 6]\n",
      "[1, 2, 3, 4, 5, 6]\n"
     ]
    }
   ],
   "source": [
    "for catp in cat_p(3, 2):\n",
    "#     if leafbump(catp, 2) == 3:\n",
    "        print(catp)"
   ]
  },
  {
   "cell_type": "code",
   "execution_count": 98,
   "id": "9e1f6089",
   "metadata": {},
   "outputs": [
    {
     "name": "stdout",
     "output_type": "stream",
     "text": [
      "[1, 1, 1]\n",
      "[1, 1, 2]\n",
      "[1, 1, 3]\n",
      "[1, 1, 4]\n",
      "[1, 1, 5]\n",
      "[1, 1, 6]\n",
      "[1, 1, 7]\n",
      "[1, 2, 2]\n",
      "[1, 2, 3]\n",
      "[1, 2, 4]\n",
      "[1, 2, 5]\n",
      "[1, 2, 6]\n",
      "[1, 2, 7]\n",
      "[1, 3, 3]\n",
      "[1, 3, 4]\n",
      "[1, 3, 5]\n",
      "[1, 3, 6]\n",
      "[1, 3, 7]\n",
      "[1, 4, 4]\n",
      "[1, 4, 5]\n",
      "[1, 4, 6]\n",
      "[1, 4, 7]\n"
     ]
    }
   ],
   "source": [
    "for p in pd_m(3,3):\n",
    "    print(p)"
   ]
  },
  {
   "cell_type": "code",
   "execution_count": 99,
   "id": "6658159c",
   "metadata": {},
   "outputs": [],
   "source": [
    "def fp_m(p, m):\n",
    "    count = 0\n",
    "    for i, pi in enumerate(p):\n",
    "        count += int(pi == m*i + 1 )\n",
    "    return count\n",
    "\n",
    "# def fpm(p, m):\n",
    "#     exp = 1\n",
    "#     ans =  0\n",
    "#     for i, pi in enumerate(p):\n",
    "#         if pi%m == 1:\n",
    "#             if pi == exp:\n",
    "#                 ans += 1\n",
    "#             exp+=m\n",
    "#     return ans\n",
    "\n",
    "def fpm(p, m):\n",
    "    return fp(p)-m\n",
    "def mxm(p, m):\n",
    "    mn = len(p)\n",
    "    return mn-m+1 - max(u(p, m))\n",
    "\n",
    "def mxu(p, m):\n",
    "    n = len(p)\n",
    "    return m*n-m+1 - max(p)\n",
    "\n",
    "def mx_m(p, m):\n",
    "    up = u(p, m)\n",
    "    ans = 1\n",
    "    for i,  pi in enumerate(up):\n",
    "            if pi == 1:\n",
    "                continue\n",
    "            ans = pi//m + 1\n",
    "    return ans\n",
    "            \n",
    "def u(pe, m):\n",
    "    p = pe[:]\n",
    "    if m == 1:\n",
    "        return p\n",
    "    nxt = 2\n",
    "    ni = len(p)\n",
    "    while m*len(p) > ni:\n",
    "            if nxt in p:p.remove(nxt)\n",
    "            nxt = (nxt + 1) if nxt%m != 0 else nxt + 2\n",
    "    return p\n",
    "\n",
    "from collections import Counter\n",
    "def freqm(pe, m):\n",
    "    count = Counter(pe)\n",
    "    ans =  count[1]\n",
    "    for k in count:\n",
    "        if k%m == 1:\n",
    "            ans += count[k]\n",
    "    return ans\n",
    "\n",
    "def leafbump(pe, m, l):\n",
    "#     up = up(pe, m)\n",
    "    count = 0\n",
    "    for p in pe:\n",
    "        if p == l:\n",
    "            count+=1\n",
    "    return count\n",
    "\n",
    "def mfp(pe, m):\n",
    "    cur = 1\n",
    "    count = 0\n",
    "    for pi in pe:\n",
    "        if pi == cur*m - m + 1:\n",
    "            count +=1\n",
    "        cur+=1\n",
    "    return count\n",
    "            \n",
    "        "
   ]
  },
  {
   "cell_type": "code",
   "execution_count": 100,
   "id": "7ef2117f",
   "metadata": {},
   "outputs": [
    {
     "name": "stdout",
     "output_type": "stream",
     "text": [
      "0 143 88 33 8 1 0 0 0 0\n",
      "0 143 88 33 8 1 0 0 0 0\n"
     ]
    }
   ],
   "source": [
    "n = 5\n",
    "m = 2\n",
    "line = [0]*(m*n)\n",
    "line2 = [0]*(m*n)\n",
    "for catp in cat_p(n, m):\n",
    "    line[leafbump(catp, 2, 1)]+=1\n",
    "    line2[leafbump(catp, 2, 2)]+=1\n",
    "print(*line)\n",
    "print(*line2)"
   ]
  },
  {
   "cell_type": "code",
   "execution_count": null,
   "id": "06f8055d",
   "metadata": {},
   "outputs": [],
   "source": []
  },
  {
   "cell_type": "code",
   "execution_count": null,
   "id": "0238e030",
   "metadata": {
    "scrolled": true
   },
   "outputs": [],
   "source": []
  },
  {
   "cell_type": "code",
   "execution_count": 101,
   "id": "437df0f6",
   "metadata": {
    "scrolled": true
   },
   "outputs": [
    {
     "name": "stdout",
     "output_type": "stream",
     "text": [
      "0 0 3 3 3 2 1\n",
      "0 3 3 3 2 1 0\n",
      "3 3 3 2 1 0 0\n",
      "3 3 2 1 0 0 0\n",
      "3 2 1 0 0 0 0\n",
      "2 1 0 0 0 0 0\n",
      "1 0 0 0 0 0 0\n"
     ]
    }
   ],
   "source": [
    "n = 4\n",
    "m = 2\n",
    "ps = cat_p(n, m)\n",
    "table = [[0]*(m*n-m+1) for i in range(m*n-m+1)]\n",
    "for catp in ps:\n",
    "    table[fpm(catp, m)][mxm(catp, m)] += 1\n",
    "\n",
    "for row in table:\n",
    "    print(*row)"
   ]
  },
  {
   "cell_type": "code",
   "execution_count": 102,
   "id": "c9ca2ecc",
   "metadata": {},
   "outputs": [
    {
     "name": "stdout",
     "output_type": "stream",
     "text": [
      "0 0 0 0 0 0 0 0 11 11 11 11 11 11 11 11 11 11 11 10 9 8 7 6 5 4 3 2 1 0\n"
     ]
    }
   ],
   "source": [
    "n = 3\n",
    "m = 10\n",
    "line = [0]*(m*n)\n",
    "for catp in cat_p(n, m):\n",
    "    line[m*n-1 - max(u(catp, m))]+=1\n",
    "print(*line)"
   ]
  },
  {
   "cell_type": "code",
   "execution_count": 103,
   "id": "038443e6",
   "metadata": {},
   "outputs": [
    {
     "ename": "IndexError",
     "evalue": "list index out of range",
     "output_type": "error",
     "traceback": [
      "\u001b[0;31m---------------------------------------------------------------------------\u001b[0m",
      "\u001b[0;31mIndexError\u001b[0m                                Traceback (most recent call last)",
      "\u001b[0;32m/tmp/ipykernel_60852/3468476221.py\u001b[0m in \u001b[0;36m<module>\u001b[0;34m\u001b[0m\n\u001b[1;32m      4\u001b[0m \u001b[0mtable\u001b[0m \u001b[0;34m=\u001b[0m \u001b[0;34m[\u001b[0m\u001b[0;34m[\u001b[0m\u001b[0;34m[\u001b[0m\u001b[0mInteger\u001b[0m\u001b[0;34m(\u001b[0m\u001b[0;36m0\u001b[0m\u001b[0;34m)\u001b[0m\u001b[0;34m]\u001b[0m\u001b[0;34m*\u001b[0m\u001b[0;34m(\u001b[0m\u001b[0mn\u001b[0m\u001b[0;34m)\u001b[0m \u001b[0;32mfor\u001b[0m \u001b[0mi\u001b[0m \u001b[0;32min\u001b[0m \u001b[0mrange\u001b[0m\u001b[0;34m(\u001b[0m\u001b[0mn\u001b[0m\u001b[0;34m+\u001b[0m\u001b[0mInteger\u001b[0m\u001b[0;34m(\u001b[0m\u001b[0;36m1\u001b[0m\u001b[0;34m)\u001b[0m\u001b[0;34m)\u001b[0m\u001b[0;34m]\u001b[0m \u001b[0;32mfor\u001b[0m \u001b[0m_\u001b[0m \u001b[0;32min\u001b[0m \u001b[0mrange\u001b[0m\u001b[0;34m(\u001b[0m\u001b[0mn\u001b[0m\u001b[0;34m+\u001b[0m\u001b[0mInteger\u001b[0m\u001b[0;34m(\u001b[0m\u001b[0;36m1\u001b[0m\u001b[0;34m)\u001b[0m\u001b[0;34m)\u001b[0m\u001b[0;34m]\u001b[0m\u001b[0;34m\u001b[0m\u001b[0;34m\u001b[0m\u001b[0m\n\u001b[1;32m      5\u001b[0m \u001b[0;32mfor\u001b[0m \u001b[0mcatp\u001b[0m \u001b[0;32min\u001b[0m \u001b[0mps\u001b[0m\u001b[0;34m:\u001b[0m\u001b[0;34m\u001b[0m\u001b[0;34m\u001b[0m\u001b[0m\n\u001b[0;32m----> 6\u001b[0;31m     \u001b[0mtable\u001b[0m\u001b[0;34m[\u001b[0m\u001b[0mfpm\u001b[0m\u001b[0;34m(\u001b[0m\u001b[0mcatp\u001b[0m\u001b[0;34m,\u001b[0m \u001b[0mm\u001b[0m\u001b[0;34m)\u001b[0m\u001b[0;34m]\u001b[0m\u001b[0;34m[\u001b[0m\u001b[0mleafbump\u001b[0m\u001b[0;34m(\u001b[0m\u001b[0mcatp\u001b[0m\u001b[0;34m,\u001b[0m \u001b[0mm\u001b[0m\u001b[0;34m,\u001b[0m \u001b[0mInteger\u001b[0m\u001b[0;34m(\u001b[0m\u001b[0;36m1\u001b[0m\u001b[0;34m)\u001b[0m\u001b[0;34m)\u001b[0m\u001b[0;34m-\u001b[0m\u001b[0mInteger\u001b[0m\u001b[0;34m(\u001b[0m\u001b[0;36m1\u001b[0m\u001b[0;34m)\u001b[0m\u001b[0;34m]\u001b[0m\u001b[0;34m[\u001b[0m\u001b[0mleafbump\u001b[0m\u001b[0;34m(\u001b[0m\u001b[0mcatp\u001b[0m\u001b[0;34m,\u001b[0m \u001b[0mm\u001b[0m\u001b[0;34m,\u001b[0m \u001b[0mInteger\u001b[0m\u001b[0;34m(\u001b[0m\u001b[0;36m2\u001b[0m\u001b[0;34m)\u001b[0m\u001b[0;34m)\u001b[0m\u001b[0;34m-\u001b[0m\u001b[0mInteger\u001b[0m\u001b[0;34m(\u001b[0m\u001b[0;36m1\u001b[0m\u001b[0;34m)\u001b[0m\u001b[0;34m]\u001b[0m \u001b[0;34m+=\u001b[0m \u001b[0mInteger\u001b[0m\u001b[0;34m(\u001b[0m\u001b[0;36m1\u001b[0m\u001b[0;34m)\u001b[0m\u001b[0;34m\u001b[0m\u001b[0;34m\u001b[0m\u001b[0m\n\u001b[0m\u001b[1;32m      7\u001b[0m \u001b[0;34m\u001b[0m\u001b[0m\n\u001b[1;32m      8\u001b[0m \u001b[0;32mfor\u001b[0m \u001b[0mplane\u001b[0m \u001b[0;32min\u001b[0m \u001b[0mtable\u001b[0m\u001b[0;34m:\u001b[0m\u001b[0;34m\u001b[0m\u001b[0;34m\u001b[0m\u001b[0m\n",
      "\u001b[0;31mIndexError\u001b[0m: list index out of range"
     ]
    }
   ],
   "source": [
    "n = 3\n",
    "m = 2\n",
    "ps = cat_p(n, m)\n",
    "table = [[[0]*(n) for i in range(n+1)] for _ in range(n+1)]\n",
    "for catp in ps:\n",
    "    table[fpm(catp, m)][leafbump(catp, m, 1)-1][leafbump(catp, m, 2)-1] += 1\n",
    "\n",
    "for plane in table:\n",
    "    for row in plane:\n",
    "        print(*row)\n",
    "    print('='*n)"
   ]
  },
  {
   "cell_type": "code",
   "execution_count": 104,
   "id": "19af712f",
   "metadata": {},
   "outputs": [],
   "source": [
    "def conv(dw):\n",
    "    p = []\n",
    "    cur = 1\n",
    "    for c in dw[::-1]:\n",
    "        if c == 'E':\n",
    "            p.append(cur)\n",
    "        else:\n",
    "            cur+=1\n",
    "    return p \n",
    "        "
   ]
  },
  {
   "cell_type": "code",
   "execution_count": 105,
   "id": "a232665e",
   "metadata": {},
   "outputs": [
    {
     "name": "stdout",
     "output_type": "stream",
     "text": [
      "[1, 1, 4]\n"
     ]
    }
   ],
   "source": [
    "dw = \"NNNENNNEE\"\n",
    "print(conv(dw))"
   ]
  },
  {
   "cell_type": "code",
   "execution_count": 106,
   "id": "0d2faa2f",
   "metadata": {},
   "outputs": [],
   "source": [
    "def inv(p):\n",
    "#     print(p)\n",
    "    if len(p) <=1:\n",
    "        return p\n",
    "    ffp = 2\n",
    "    while ffp != p[ffp-1]:\n",
    "        ffp+=1\n",
    "#     p1 = inv()\n",
    "    p2 = []\n",
    "    for i in range(ffp-1, len(p)):\n",
    "#         print(i, p[i])\n",
    "        p2.append(p[i] - ffp + 1)\n",
    "    p2 = inv(p2)\n",
    "    l = 1 + len(p2)\n",
    "    for pi in inv(p[1:ffp-1]):\n",
    "        p2.append(pi+l)\n",
    "    return [1] + p2\n",
    "\n"
   ]
  },
  {
   "cell_type": "code",
   "execution_count": 107,
   "id": "d1d9771b",
   "metadata": {},
   "outputs": [],
   "source": [
    "l = inv([1,1,2,4,4,6])"
   ]
  },
  {
   "cell_type": "code",
   "execution_count": 108,
   "id": "1cb8f9fa",
   "metadata": {},
   "outputs": [],
   "source": [
    "from collections import Counter\n",
    "def top(p, m):\n",
    "    cp = Counter(p)\n",
    "    mn = len(p)\n",
    "    cur = 1\n",
    "    ans = [1]\n",
    "    for i in range(mn - m + 1, 1, -m):\n",
    "        co = cp.get(i, 0)\n",
    "        cur += co\n",
    "        ans.append(cur)\n",
    "    return ans\n",
    "    "
   ]
  },
  {
   "cell_type": "code",
   "execution_count": 109,
   "id": "2f17663c",
   "metadata": {},
   "outputs": [
    {
     "name": "stdout",
     "output_type": "stream",
     "text": [
      "[1, 3, 4]\n"
     ]
    }
   ],
   "source": [
    "print(top(l, 2))"
   ]
  },
  {
   "cell_type": "code",
   "execution_count": 110,
   "id": "f7171a64",
   "metadata": {},
   "outputs": [
    {
     "name": "stdout",
     "output_type": "stream",
     "text": [
      "[1, 1, 1, 1, 2, 4, 6, 8] [1, 3, 5, 7] 0 0\n",
      "[1, 1, 1, 2, 2, 4, 6, 8] [1, 2, 5, 7] 0 0\n",
      "[1, 1, 1, 2, 3, 4, 6, 8] [1, 1, 5, 7] 0 0\n",
      "[1, 1, 1, 2, 4, 4, 6, 8] [1, 3, 4, 7] 0 0\n",
      "[1, 1, 1, 2, 4, 5, 6, 8] [1, 3, 3, 7] 0 0\n",
      "[1, 1, 1, 2, 4, 6, 6, 8] [1, 3, 5, 6] 1 1\n",
      "[1, 1, 1, 2, 4, 6, 7, 8] [1, 3, 5, 5] 2 2\n",
      "[1, 1, 2, 2, 2, 4, 6, 8] [1, 2, 4, 7] 0 0\n",
      "[1, 1, 2, 2, 3, 4, 6, 8] [1, 1, 4, 7] 0 0\n",
      "[1, 1, 2, 2, 4, 4, 6, 8] [1, 2, 3, 7] 0 0\n",
      "[1, 1, 2, 2, 4, 5, 6, 8] [1, 2, 2, 7] 0 0\n",
      "[1, 1, 2, 2, 4, 6, 6, 8] [1, 2, 5, 6] 1 1\n",
      "[1, 1, 2, 2, 4, 6, 7, 8] [1, 2, 5, 5] 2 2\n",
      "[1, 1, 2, 3, 3, 4, 6, 8] [1, 1, 3, 7] 0 0\n",
      "[1, 1, 2, 3, 4, 4, 6, 8] [1, 1, 2, 7] 0 0\n",
      "[1, 1, 2, 3, 4, 5, 6, 8] [1, 1, 1, 7] 0 0\n",
      "[1, 1, 2, 3, 4, 6, 6, 8] [1, 1, 5, 6] 1 1\n",
      "[1, 1, 2, 3, 4, 6, 7, 8] [1, 1, 5, 5] 2 2\n",
      "[1, 1, 2, 4, 4, 4, 6, 8] [1, 3, 4, 6] 1 1\n",
      "[1, 1, 2, 4, 4, 5, 6, 8] [1, 3, 3, 6] 1 1\n",
      "[1, 1, 2, 4, 4, 6, 6, 8] [1, 3, 4, 5] 2 2\n",
      "[1, 1, 2, 4, 4, 6, 7, 8] [1, 3, 4, 4] 3 3\n",
      "[1, 1, 2, 4, 5, 5, 6, 8] [1, 3, 3, 5] 2 2\n",
      "[1, 1, 2, 4, 5, 6, 6, 8] [1, 3, 3, 4] 3 3\n",
      "[1, 1, 2, 4, 5, 6, 7, 8] [1, 3, 3, 3] 4 4\n",
      "[1, 2, 2, 2, 2, 4, 6, 8] [1, 2, 4, 6] 1 1\n",
      "[1, 2, 2, 2, 3, 4, 6, 8] [1, 1, 4, 6] 1 1\n",
      "[1, 2, 2, 2, 4, 4, 6, 8] [1, 2, 3, 6] 1 1\n",
      "[1, 2, 2, 2, 4, 5, 6, 8] [1, 2, 2, 6] 1 1\n",
      "[1, 2, 2, 2, 4, 6, 6, 8] [1, 2, 4, 5] 2 2\n",
      "[1, 2, 2, 2, 4, 6, 7, 8] [1, 2, 4, 4] 3 3\n",
      "[1, 2, 2, 3, 3, 4, 6, 8] [1, 1, 3, 6] 1 1\n",
      "[1, 2, 2, 3, 4, 4, 6, 8] [1, 1, 2, 6] 1 1\n",
      "[1, 2, 2, 3, 4, 5, 6, 8] [1, 1, 1, 6] 1 1\n",
      "[1, 2, 2, 3, 4, 6, 6, 8] [1, 1, 4, 5] 2 2\n",
      "[1, 2, 2, 3, 4, 6, 7, 8] [1, 1, 4, 4] 3 3\n",
      "[1, 2, 2, 4, 4, 4, 6, 8] [1, 2, 3, 5] 2 2\n",
      "[1, 2, 2, 4, 4, 5, 6, 8] [1, 2, 2, 5] 2 2\n",
      "[1, 2, 2, 4, 4, 6, 6, 8] [1, 2, 3, 4] 3 3\n",
      "[1, 2, 2, 4, 4, 6, 7, 8] [1, 2, 3, 3] 4 4\n",
      "[1, 2, 2, 4, 5, 5, 6, 8] [1, 2, 2, 4] 3 3\n",
      "[1, 2, 2, 4, 5, 6, 6, 8] [1, 2, 2, 3] 4 4\n",
      "[1, 2, 2, 4, 5, 6, 7, 8] [1, 2, 2, 2] 5 5\n",
      "[1, 2, 3, 3, 3, 4, 6, 8] [1, 1, 3, 5] 2 2\n",
      "[1, 2, 3, 3, 4, 4, 6, 8] [1, 1, 2, 5] 2 2\n",
      "[1, 2, 3, 3, 4, 5, 6, 8] [1, 1, 1, 5] 2 2\n",
      "[1, 2, 3, 3, 4, 6, 6, 8] [1, 1, 3, 4] 3 3\n",
      "[1, 2, 3, 3, 4, 6, 7, 8] [1, 1, 3, 3] 4 4\n",
      "[1, 2, 3, 4, 4, 4, 6, 8] [1, 1, 2, 4] 3 3\n",
      "[1, 2, 3, 4, 4, 5, 6, 8] [1, 1, 1, 4] 3 3\n",
      "[1, 2, 3, 4, 4, 6, 6, 8] [1, 1, 2, 3] 4 4\n",
      "[1, 2, 3, 4, 4, 6, 7, 8] [1, 1, 2, 2] 5 5\n",
      "[1, 2, 3, 4, 5, 5, 6, 8] [1, 1, 1, 3] 4 4\n",
      "[1, 2, 3, 4, 5, 6, 6, 8] [1, 1, 1, 2] 5 5\n",
      "[1, 2, 3, 4, 5, 6, 7, 8] [1, 1, 1, 1] 6 6\n",
      "0\n"
     ]
    }
   ],
   "source": [
    "n = 4\n",
    "m = 2\n",
    "diff  = 0\n",
    "for qi in cat_p(n, m):\n",
    "    ji = top(inv(qi), m)\n",
    "#     diff += abs(fpm(qi, m)-mxu(ji, m))\n",
    "    print(qi, ji, fpm(qi, m), mxu(ji, m))\n",
    "print(diff)\n",
    "    "
   ]
  },
  {
   "cell_type": "code",
   "execution_count": null,
   "id": "58000eaf",
   "metadata": {},
   "outputs": [],
   "source": []
  },
  {
   "cell_type": "code",
   "execution_count": 111,
   "id": "6284dadc",
   "metadata": {},
   "outputs": [],
   "source": [
    "def tod(p, m):\n",
    "    ans = []\n",
    "    for pi, pii in zip(p, p[1:]+[m*len(p)+1]):\n",
    "        print(pi, pii)\n",
    "        mod = pi%m if pi%m != 0 else m\n",
    "        ans.extend([0]*(m+1-mod))\n",
    "        if pii%m == 1:\n",
    "            ans.extend([1]*((pii-pi)//m))\n",
    "    return ans\n"
   ]
  },
  {
   "cell_type": "code",
   "execution_count": 112,
   "id": "79663de2",
   "metadata": {
    "scrolled": false
   },
   "outputs": [
    {
     "name": "stdout",
     "output_type": "stream",
     "text": [
      "[1, 1] 1 2\n",
      "[1, 2] 1 1\n",
      "[1, 3] 2 0\n"
     ]
    }
   ],
   "source": [
    "n = 2\n",
    "m = 2\n",
    "for p in pd_m(n,m):\n",
    "    print(p, mfp(p, m), mxu(p, m))"
   ]
  },
  {
   "cell_type": "code",
   "execution_count": 113,
   "id": "b9d2b26e",
   "metadata": {},
   "outputs": [],
   "source": [
    "def recpd(p, n, m):\n",
    "    ps = [[] for i in range(m+1)]\n",
    "    "
   ]
  },
  {
   "cell_type": "code",
   "execution_count": 114,
   "id": "da042ee5",
   "metadata": {},
   "outputs": [],
   "source": [
    "def deficit(p, b):\n",
    "    return n - p[-b]"
   ]
  },
  {
   "cell_type": "code",
   "execution_count": 115,
   "id": "c3ad2bfb",
   "metadata": {},
   "outputs": [
    {
     "name": "stdout",
     "output_type": "stream",
     "text": [
      "0 2 0\n",
      "0 2 3 0\n",
      "0 4 6 4 0\n",
      "0 10 15 12 5 0\n",
      "0 28 42 36 20 6 0\n"
     ]
    }
   ],
   "source": [
    "for j in range(2, 7):\n",
    "    n, m = j, 1\n",
    "    b = 2\n",
    "    line = [0]*(m*n+m)\n",
    "    for p in pd_m(n,m):\n",
    "        line[deficit(p, b)]+=1\n",
    "    print(*line)"
   ]
  },
  {
   "cell_type": "code",
   "execution_count": 116,
   "id": "5b585109",
   "metadata": {
    "scrolled": true
   },
   "outputs": [
    {
     "name": "stdout",
     "output_type": "stream",
     "text": [
      "[1, 1, 1, 2, 4, 6] [1, 1, 1, 2, 4] [1]\n",
      "[1, 1, 2, 2, 4, 6] [1, 1, 2, 2, 4] [1]\n",
      "[1, 1, 2, 3, 4, 6] [1, 1, 2, 3, 4] [1]\n",
      "[1, 1, 2, 4, 4, 6] [1, 1, 2] [1, 1, 3]\n",
      "[1, 1, 2, 4, 5, 6] [1, 1, 2] [1, 2, 3]\n",
      "[1, 2, 2, 2, 4, 6] [1] [1, 1, 1, 3, 5]\n",
      "[1, 2, 2, 3, 4, 6] [1] [1, 1, 2, 3, 5]\n",
      "[1, 2, 2, 4, 4, 6] [1] [1, 1, 3, 3, 5]\n",
      "[1, 2, 2, 4, 5, 6] [1] [1, 1, 3, 4, 5]\n",
      "[1, 2, 3, 3, 4, 6] [1] [1, 2, 2, 3, 5]\n",
      "[1, 2, 3, 4, 4, 6] [1] [1, 2, 3, 3, 5]\n",
      "[1, 2, 3, 4, 5, 6] [1] [1, 2, 3, 4, 5]\n"
     ]
    }
   ],
   "source": [
    "def last_k(p, m):\n",
    "    mn = len(p)\n",
    "    cur = mn - m + 1\n",
    "    for i in range(mn - m, 0, -1):\n",
    "        if p[i] == i+1:\n",
    "            return i\n",
    "    return 0\n",
    "\n",
    "def first_k(p, m):\n",
    "    mn = len(p)\n",
    "    for i in range(1, len(p)):\n",
    "        if p[i] == i+1:\n",
    "            return i\n",
    "    \n",
    "\n",
    "def shift(p):\n",
    "    k = p[0]\n",
    "    return list(map(lambda x: x - k+1, p))\n",
    " \n",
    "w = 5\n",
    "from collections import defaultdict\n",
    "counter = defaultdict(int)\n",
    "for catp in cat_p(3, 2):\n",
    "#         k = last_k(catp, 2)\n",
    "        k = first_k(catp, 2)\n",
    "        print(catp, catp[:k], shift(catp[k:]))\n",
    "        \n",
    "#         print(catp, k)\n",
    "#         counter[tuple(shift(catp[k:-1]))]+=1\n",
    "#         if len(shift(catp[k:-1])) == w : print(shift(catp[k:-1]))\n",
    "        \n",
    "for k, v in sorted(counter.items(), key = lambda x: (-x[1], len(x[0]))):\n",
    "    print(k, v)"
   ]
  },
  {
   "cell_type": "code",
   "execution_count": 117,
   "id": "21da87ca",
   "metadata": {},
   "outputs": [
    {
     "name": "stdout",
     "output_type": "stream",
     "text": [
      "[1, 1, 1, 2, 4]\n",
      "[1, 1, 2, 2, 4]\n",
      "[1, 1, 2, 3, 4]\n"
     ]
    }
   ],
   "source": [
    "# w = 1\n",
    "for catp in cat_p(w-2, 2):\n",
    "        if fp(catp)-2 == 0 : print(catp[:-1])"
   ]
  },
  {
   "cell_type": "code",
   "execution_count": 118,
   "id": "2a28da7e",
   "metadata": {},
   "outputs": [],
   "source": [
    "def countp(p, pi):\n",
    "    return len(list(filter(lambda x: x == pi, p)))"
   ]
  },
  {
   "cell_type": "code",
   "execution_count": 119,
   "id": "b2575474",
   "metadata": {},
   "outputs": [],
   "source": [
    "def fxp(p, m):\n",
    "    p = u(p, m)\n",
    "    ind = 0\n",
    "    count =  0\n",
    "    for pi in p:\n",
    "        if pi == m*ind + 1:\n",
    "            count+=1\n",
    "        ind += 1\n",
    "    return count"
   ]
  },
  {
   "cell_type": "code",
   "execution_count": 130,
   "id": "b720cfd4",
   "metadata": {},
   "outputs": [
    {
     "name": "stdout",
     "output_type": "stream",
     "text": [
      "0 0 0 0\n",
      "0 0 0 0\n",
      "0 0 0 0\n",
      "0 0 0 0\n",
      "---\n",
      "4 4 1 0\n",
      "4 1 0 0\n",
      "1 0 0 0\n",
      "0 0 0 0\n",
      "---\n",
      "4 1 0 0\n",
      "1 0 0 0\n",
      "0 0 0 0\n",
      "0 0 0 0\n",
      "---\n",
      "1 0 0 0\n",
      "0 0 0 0\n",
      "0 0 0 0\n",
      "0 0 0 0\n",
      "---\n"
     ]
    }
   ],
   "source": [
    "n = 3\n",
    "m = 3\n",
    "table = [[[0]*(n+1) for j in range(n+1)] for i in range(n+1)]\n",
    "tsmall =[[0]*(n+1) for j in range(n+1)]\n",
    "line = [0]*n\n",
    "for p in cat_p(n,m):\n",
    "    table[fxp(p, m)][countp(p, 1)-1][countp(p,2)-1]+=1\n",
    "#     print(p, countp(p, 2), fxp(p, m))\n",
    "#     line[countp(p, 2)-1]+=1\n",
    "    tsmall[fxp(p, m)-1][countp(p, 1) - 1] += 1\n",
    "for plane in table:\n",
    "    for row in plane:\n",
    "        print(*row)\n",
    "    print(\"-\"*n)"
   ]
  },
  {
   "cell_type": "code",
   "execution_count": 158,
   "id": "04a8320a",
   "metadata": {},
   "outputs": [
    {
     "name": "stdout",
     "output_type": "stream",
     "text": [
      "t0^2 + t0*t1 + t1^2 + t0*t2 + t1*t2 + t2^2 + 6*t0 + 6*t1 + 6*t2 + 11\n"
     ]
    }
   ],
   "source": [
    "n = 3\n",
    "m = 4\n",
    "table = [[[0]*(n+1) for j in range(n+1)] for i in range(n+1)]\n",
    "tsmall =[[0]*(n+1) for j in range(n+1)]\n",
    "line = [0]*n\n",
    "for p in cat_p(n,m):\n",
    "    table[fxp(p, m)-1][countp(p, 1)-1][countp(p,2)-1]+=1\n",
    "#     print(p, countp(p, 2), fxp(p, m))\n",
    "#     line[countp(p, 2)-1]+=1\n",
    "    tsmall[fxp(p, m)-1][countp(p, 1) - 1] += 1\n",
    "# for plane in table:\n",
    "#     for row in plane:\n",
    "#         print(*row)\n",
    "#     print(\"-\"*n)\n",
    "\n",
    "poll = 0\n",
    "t0, t1, t2 = var('t0, t1, t2')  \n",
    "for l in range(n+1):\n",
    "    for w1 in range(n+1): \n",
    "        for w2 in range(n+1):\n",
    "            poll += table[l][w1][w2]*(t0**l)*(t1**w1)*(t2**w2)\n",
    "print(poll)\n",
    "                "
   ]
  },
  {
   "cell_type": "code",
   "execution_count": 164,
   "id": "fbd17450",
   "metadata": {},
   "outputs": [
    {
     "name": "stdout",
     "output_type": "stream",
     "text": [
      "q0^4 + q0^3*q1 + q0^2*q1^2 + q0*q1^3 + q1^4 + q0^3*q2 + q0^2*q1*q2 + q0*q1^2*q2 + q1^3*q2 + q0^2*q2^2 + q0*q1*q2^2 + q1^2*q2^2 + q0*q2^3 + q1*q2^3 + q2^4 + q0^3*q3 + q0^2*q1*q3 + q0*q1^2*q3 + q1^3*q3 + q0^2*q2*q3 + q0*q1*q2*q3 + q1^2*q2*q3 + q0*q2^2*q3 + q1*q2^2*q3 + q2^3*q3 + q0^2*q3^2 + q0*q1*q3^2 + q1^2*q3^2 + q0*q2*q3^2 + q1*q2*q3^2 + q2^2*q3^2 + q0*q3^3 + q1*q3^3 + q2*q3^3 + q3^4 + 9*q0^3 + 9*q0^2*q1 + 9*q0*q1^2 + 9*q1^3 + 9*q0^2*q2 + 9*q0*q1*q2 + 9*q1^2*q2 + 9*q0*q2^2 + 9*q1*q2^2 + 9*q2^3 + 9*q0^2*q3 + 9*q0*q1*q3 + 9*q1^2*q3 + 9*q0*q2*q3 + 9*q1*q2*q3 + 9*q2^2*q3 + 9*q0*q3^2 + 9*q1*q3^2 + 9*q2*q3^2 + 9*q3^3 + 39*q0^2 + 39*q0*q1 + 39*q1^2 + 39*q0*q2 + 39*q1*q2 + 39*q2^2 + 39*q0*q3 + 39*q1*q3 + 39*q2*q3 + 39*q3^2 + 91*q0 + 91*q1 + 91*q2 + 91*q3\n"
     ]
    }
   ],
   "source": [
    "n = 5\n",
    "m = 3\n",
    "table3 = [[[[0]*(n+1) for j in range(n+1)] for i in range(n+1)] for _ in range(n+1)]\n",
    "tsmall =[[0]*(n+1) for j in range(n+1)]\n",
    "line = [0]*n\n",
    "for p in cat_p(n,m):\n",
    "    table3[fxp(p, m)-1][countp(p, 1)-1][countp(p,2)-1][countp(p, 3)-1]+=1\n",
    "#     print(p, countp(p, 2), fxp(p, m))\n",
    "#     line[countp(p, 2)-1]+=1\n",
    "    tsmall[fxp(p, m)-1][countp(p, 1) - 1] += 1\n",
    "\n",
    "pol = 0\n",
    "q0, q1, q2, q3 = var('q0, q1, q2, q3')  \n",
    "for l in range(n+1):\n",
    "    for w1 in range(n+1): \n",
    "        for w2 in range(n+1):\n",
    "            for w3 in range(n+1):\n",
    "                pol += table3[l][w1][w2][w3]*(q0**l)*(q1**w1)*(q2**w2)*(q3**w3)\n",
    "print(pol)"
   ]
  },
  {
   "cell_type": "code",
   "execution_count": 58,
   "id": "36d99ca9",
   "metadata": {},
   "outputs": [
    {
     "name": "stdout",
     "output_type": "stream",
     "text": [
      "0 0 0\n",
      "0 0 0\n",
      "0 0 0\n"
     ]
    }
   ],
   "source": [
    "for row in tsmall:\n",
    "    print(*row)"
   ]
  },
  {
   "cell_type": "code",
   "execution_count": 59,
   "id": "410944a9",
   "metadata": {},
   "outputs": [
    {
     "ename": "NameError",
     "evalue": "name 'cat_p' is not defined",
     "output_type": "error",
     "traceback": [
      "\u001b[0;31m---------------------------------------------------------------------------\u001b[0m",
      "\u001b[0;31mNameError\u001b[0m                                 Traceback (most recent call last)",
      "\u001b[0;32m/tmp/ipykernel_60852/2927938510.py\u001b[0m in \u001b[0;36m<module>\u001b[0;34m\u001b[0m\n\u001b[1;32m      4\u001b[0m \u001b[0mtsmall\u001b[0m \u001b[0;34m=\u001b[0m\u001b[0;34m[\u001b[0m\u001b[0;34m[\u001b[0m\u001b[0mInteger\u001b[0m\u001b[0;34m(\u001b[0m\u001b[0;36m0\u001b[0m\u001b[0;34m)\u001b[0m\u001b[0;34m]\u001b[0m\u001b[0;34m*\u001b[0m\u001b[0;34m(\u001b[0m\u001b[0mn\u001b[0m\u001b[0;34m+\u001b[0m\u001b[0mInteger\u001b[0m\u001b[0;34m(\u001b[0m\u001b[0;36m1\u001b[0m\u001b[0;34m)\u001b[0m\u001b[0;34m)\u001b[0m \u001b[0;32mfor\u001b[0m \u001b[0mj\u001b[0m \u001b[0;32min\u001b[0m \u001b[0mrange\u001b[0m\u001b[0;34m(\u001b[0m\u001b[0mn\u001b[0m\u001b[0;34m+\u001b[0m\u001b[0mInteger\u001b[0m\u001b[0;34m(\u001b[0m\u001b[0;36m1\u001b[0m\u001b[0;34m)\u001b[0m\u001b[0;34m)\u001b[0m\u001b[0;34m]\u001b[0m\u001b[0;34m\u001b[0m\u001b[0;34m\u001b[0m\u001b[0m\n\u001b[1;32m      5\u001b[0m \u001b[0mline\u001b[0m \u001b[0;34m=\u001b[0m \u001b[0;34m[\u001b[0m\u001b[0mInteger\u001b[0m\u001b[0;34m(\u001b[0m\u001b[0;36m0\u001b[0m\u001b[0;34m)\u001b[0m\u001b[0;34m]\u001b[0m\u001b[0;34m*\u001b[0m\u001b[0mn\u001b[0m\u001b[0;34m\u001b[0m\u001b[0;34m\u001b[0m\u001b[0m\n\u001b[0;32m----> 6\u001b[0;31m \u001b[0;32mfor\u001b[0m \u001b[0mp\u001b[0m \u001b[0;32min\u001b[0m \u001b[0mcat_p\u001b[0m\u001b[0;34m(\u001b[0m\u001b[0mn\u001b[0m\u001b[0;34m,\u001b[0m\u001b[0mm\u001b[0m\u001b[0;34m)\u001b[0m\u001b[0;34m:\u001b[0m\u001b[0;34m\u001b[0m\u001b[0;34m\u001b[0m\u001b[0m\n\u001b[0m\u001b[1;32m      7\u001b[0m     \u001b[0mtable\u001b[0m\u001b[0;34m[\u001b[0m\u001b[0mfxp\u001b[0m\u001b[0;34m(\u001b[0m\u001b[0mp\u001b[0m\u001b[0;34m,\u001b[0m \u001b[0mm\u001b[0m\u001b[0;34m)\u001b[0m\u001b[0;34m-\u001b[0m\u001b[0mInteger\u001b[0m\u001b[0;34m(\u001b[0m\u001b[0;36m1\u001b[0m\u001b[0;34m)\u001b[0m\u001b[0;34m]\u001b[0m\u001b[0;34m[\u001b[0m\u001b[0mcountp\u001b[0m\u001b[0;34m(\u001b[0m\u001b[0mp\u001b[0m\u001b[0;34m,\u001b[0m \u001b[0mInteger\u001b[0m\u001b[0;34m(\u001b[0m\u001b[0;36m2\u001b[0m\u001b[0;34m)\u001b[0m\u001b[0;34m)\u001b[0m\u001b[0;34m-\u001b[0m\u001b[0mInteger\u001b[0m\u001b[0;34m(\u001b[0m\u001b[0;36m1\u001b[0m\u001b[0;34m)\u001b[0m\u001b[0;34m]\u001b[0m\u001b[0;34m[\u001b[0m\u001b[0mcountp\u001b[0m\u001b[0;34m(\u001b[0m\u001b[0mp\u001b[0m\u001b[0;34m,\u001b[0m\u001b[0mInteger\u001b[0m\u001b[0;34m(\u001b[0m\u001b[0;36m4\u001b[0m\u001b[0;34m)\u001b[0m\u001b[0;34m)\u001b[0m\u001b[0;34m-\u001b[0m\u001b[0mInteger\u001b[0m\u001b[0;34m(\u001b[0m\u001b[0;36m1\u001b[0m\u001b[0;34m)\u001b[0m\u001b[0;34m]\u001b[0m\u001b[0;34m+=\u001b[0m\u001b[0mInteger\u001b[0m\u001b[0;34m(\u001b[0m\u001b[0;36m1\u001b[0m\u001b[0;34m)\u001b[0m\u001b[0;34m\u001b[0m\u001b[0;34m\u001b[0m\u001b[0m\n\u001b[1;32m      8\u001b[0m \u001b[0;31m#     print(p, countp(p, 2), fxp(p, m))\u001b[0m\u001b[0;34m\u001b[0m\u001b[0;34m\u001b[0m\u001b[0m\n",
      "\u001b[0;31mNameError\u001b[0m: name 'cat_p' is not defined"
     ]
    }
   ],
   "source": [
    "n = 4\n",
    "m = 4\n",
    "table = [[[0]*(n+1) for j in range(n+1)] for i in range(n+1)]\n",
    "tsmall =[[0]*(n+1) for j in range(n+1)]\n",
    "line = [0]*n\n",
    "for p in cat_p(n,m):\n",
    "    table[fxp(p, m)-1][countp(p, 2)-1][countp(p,4)-1]+=1\n",
    "#     print(p, countp(p, 2), fxp(p, m))\n",
    "#     line[countp(p, 2)-1]+=1\n",
    "#     print(u(p,m),fxp(p, m), countp(p, 1) )\n",
    "#     tsmall[fxp(p, m)-1][countp(p, 1)-1] += 1\n",
    "# print(*line)\n",
    "for plane in table:\n",
    "    for r in plane:\n",
    "        print(*r)\n",
    "    print(\"#\"*100)"
   ]
  },
  {
   "cell_type": "code",
   "execution_count": 60,
   "id": "de5f9736",
   "metadata": {
    "scrolled": false
   },
   "outputs": [
    {
     "name": "stdout",
     "output_type": "stream",
     "text": [
      "m = 1\n"
     ]
    },
    {
     "ename": "NameError",
     "evalue": "name 'cat_p' is not defined",
     "output_type": "error",
     "traceback": [
      "\u001b[0;31m---------------------------------------------------------------------------\u001b[0m",
      "\u001b[0;31mNameError\u001b[0m                                 Traceback (most recent call last)",
      "\u001b[0;32m/tmp/ipykernel_60852/1132292035.py\u001b[0m in \u001b[0;36m<module>\u001b[0;34m\u001b[0m\n\u001b[1;32m      6\u001b[0m     \u001b[0mtsmall\u001b[0m \u001b[0;34m=\u001b[0m\u001b[0;34m[\u001b[0m\u001b[0;34m[\u001b[0m\u001b[0mInteger\u001b[0m\u001b[0;34m(\u001b[0m\u001b[0;36m0\u001b[0m\u001b[0;34m)\u001b[0m\u001b[0;34m]\u001b[0m\u001b[0;34m*\u001b[0m\u001b[0;34m(\u001b[0m\u001b[0mn\u001b[0m\u001b[0;34m+\u001b[0m\u001b[0mInteger\u001b[0m\u001b[0;34m(\u001b[0m\u001b[0;36m1\u001b[0m\u001b[0;34m)\u001b[0m\u001b[0;34m)\u001b[0m \u001b[0;32mfor\u001b[0m \u001b[0mj\u001b[0m \u001b[0;32min\u001b[0m \u001b[0mrange\u001b[0m\u001b[0;34m(\u001b[0m\u001b[0mn\u001b[0m\u001b[0;34m+\u001b[0m\u001b[0mInteger\u001b[0m\u001b[0;34m(\u001b[0m\u001b[0;36m1\u001b[0m\u001b[0;34m)\u001b[0m\u001b[0;34m)\u001b[0m\u001b[0;34m]\u001b[0m\u001b[0;34m\u001b[0m\u001b[0;34m\u001b[0m\u001b[0m\n\u001b[1;32m      7\u001b[0m     \u001b[0mline\u001b[0m \u001b[0;34m=\u001b[0m \u001b[0;34m[\u001b[0m\u001b[0mInteger\u001b[0m\u001b[0;34m(\u001b[0m\u001b[0;36m0\u001b[0m\u001b[0;34m)\u001b[0m\u001b[0;34m]\u001b[0m\u001b[0;34m*\u001b[0m\u001b[0mn\u001b[0m\u001b[0;34m\u001b[0m\u001b[0;34m\u001b[0m\u001b[0m\n\u001b[0;32m----> 8\u001b[0;31m     \u001b[0;32mfor\u001b[0m \u001b[0mp\u001b[0m \u001b[0;32min\u001b[0m \u001b[0mcat_p\u001b[0m\u001b[0;34m(\u001b[0m\u001b[0mn\u001b[0m\u001b[0;34m,\u001b[0m\u001b[0mm\u001b[0m\u001b[0;34m)\u001b[0m\u001b[0;34m:\u001b[0m\u001b[0;34m\u001b[0m\u001b[0;34m\u001b[0m\u001b[0m\n\u001b[0m\u001b[1;32m      9\u001b[0m         \u001b[0mtable\u001b[0m\u001b[0;34m[\u001b[0m\u001b[0mfxp\u001b[0m\u001b[0;34m(\u001b[0m\u001b[0mp\u001b[0m\u001b[0;34m,\u001b[0m \u001b[0mm\u001b[0m\u001b[0;34m)\u001b[0m\u001b[0;34m]\u001b[0m\u001b[0;34m[\u001b[0m\u001b[0mcountp\u001b[0m\u001b[0;34m(\u001b[0m\u001b[0mp\u001b[0m\u001b[0;34m,\u001b[0m \u001b[0mInteger\u001b[0m\u001b[0;34m(\u001b[0m\u001b[0;36m1\u001b[0m\u001b[0;34m)\u001b[0m\u001b[0;34m)\u001b[0m\u001b[0;34m-\u001b[0m\u001b[0mInteger\u001b[0m\u001b[0;34m(\u001b[0m\u001b[0;36m1\u001b[0m\u001b[0;34m)\u001b[0m\u001b[0;34m]\u001b[0m\u001b[0;34m[\u001b[0m\u001b[0mcountp\u001b[0m\u001b[0;34m(\u001b[0m\u001b[0mp\u001b[0m\u001b[0;34m,\u001b[0m\u001b[0mInteger\u001b[0m\u001b[0;34m(\u001b[0m\u001b[0;36m2\u001b[0m\u001b[0;34m)\u001b[0m\u001b[0;34m)\u001b[0m\u001b[0;34m-\u001b[0m\u001b[0mInteger\u001b[0m\u001b[0;34m(\u001b[0m\u001b[0;36m1\u001b[0m\u001b[0;34m)\u001b[0m\u001b[0;34m]\u001b[0m\u001b[0;34m+=\u001b[0m\u001b[0mInteger\u001b[0m\u001b[0;34m(\u001b[0m\u001b[0;36m1\u001b[0m\u001b[0;34m)\u001b[0m\u001b[0;34m\u001b[0m\u001b[0;34m\u001b[0m\u001b[0m\n\u001b[1;32m     10\u001b[0m     \u001b[0;31m#     print(p, countp(p, 2), fxp(p, m))\u001b[0m\u001b[0;34m\u001b[0m\u001b[0;34m\u001b[0m\u001b[0m\n",
      "\u001b[0;31mNameError\u001b[0m: name 'cat_p' is not defined"
     ]
    }
   ],
   "source": [
    "n = 4\n",
    "m = 2\n",
    "for m in range(1, 5):\n",
    "    print(f'm = {m}')\n",
    "    table = [[[0]*(n+1) for j in range(n+1)] for i in range(n+1)]\n",
    "    tsmall =[[0]*(n+1) for j in range(n+1)]\n",
    "    line = [0]*n\n",
    "    for p in cat_p(n,m):\n",
    "        table[fxp(p, m)][countp(p, 1)-1][countp(p,2)-1]+=1\n",
    "    #     print(p, countp(p, 2), fxp(p, m))\n",
    "    #     line[countp(p, 2)-1]+=1\n",
    "    #     print(u(p,m),fxp(p, m), countp(p, 1) )\n",
    "#         tsmall[fxp(p, m)-1][countp(p, 1)] += 1\n",
    "    # print(*line)\n",
    "    for r in tsmall:\n",
    "        print(*r)\n",
    "    print()"
   ]
  },
  {
   "cell_type": "code",
   "execution_count": 61,
   "id": "d8af0b0e",
   "metadata": {
    "scrolled": false
   },
   "outputs": [
    {
     "ename": "NameError",
     "evalue": "name 'cat_p' is not defined",
     "output_type": "error",
     "traceback": [
      "\u001b[0;31m---------------------------------------------------------------------------\u001b[0m",
      "\u001b[0;31mNameError\u001b[0m                                 Traceback (most recent call last)",
      "\u001b[0;32m/tmp/ipykernel_60852/3537719820.py\u001b[0m in \u001b[0;36m<module>\u001b[0;34m\u001b[0m\n\u001b[1;32m      4\u001b[0m     \u001b[0;32mfor\u001b[0m \u001b[0mni\u001b[0m \u001b[0;32min\u001b[0m \u001b[0mrange\u001b[0m\u001b[0;34m(\u001b[0m\u001b[0mInteger\u001b[0m\u001b[0;34m(\u001b[0m\u001b[0;36m1\u001b[0m\u001b[0;34m)\u001b[0m\u001b[0;34m,\u001b[0m \u001b[0mn\u001b[0m\u001b[0;34m+\u001b[0m\u001b[0mInteger\u001b[0m\u001b[0;34m(\u001b[0m\u001b[0;36m1\u001b[0m\u001b[0;34m)\u001b[0m\u001b[0;34m)\u001b[0m\u001b[0;34m:\u001b[0m\u001b[0;34m\u001b[0m\u001b[0;34m\u001b[0m\u001b[0m\n\u001b[1;32m      5\u001b[0m         \u001b[0mline\u001b[0m \u001b[0;34m=\u001b[0m \u001b[0;34m[\u001b[0m\u001b[0mInteger\u001b[0m\u001b[0;34m(\u001b[0m\u001b[0;36m0\u001b[0m\u001b[0;34m)\u001b[0m\u001b[0;34m]\u001b[0m\u001b[0;34m*\u001b[0m\u001b[0mni\u001b[0m\u001b[0;34m\u001b[0m\u001b[0;34m\u001b[0m\u001b[0m\n\u001b[0;32m----> 6\u001b[0;31m         \u001b[0;32mfor\u001b[0m \u001b[0mpm\u001b[0m \u001b[0;32min\u001b[0m \u001b[0mcat_p\u001b[0m\u001b[0;34m(\u001b[0m\u001b[0mni\u001b[0m\u001b[0;34m,\u001b[0m \u001b[0mmi\u001b[0m\u001b[0;34m)\u001b[0m\u001b[0;34m:\u001b[0m\u001b[0;34m\u001b[0m\u001b[0;34m\u001b[0m\u001b[0m\n\u001b[0m\u001b[1;32m      7\u001b[0m             \u001b[0mline\u001b[0m\u001b[0;34m[\u001b[0m\u001b[0mfxp\u001b[0m\u001b[0;34m(\u001b[0m\u001b[0mpm\u001b[0m\u001b[0;34m,\u001b[0m \u001b[0mmi\u001b[0m\u001b[0;34m)\u001b[0m\u001b[0;34m-\u001b[0m\u001b[0mInteger\u001b[0m\u001b[0;34m(\u001b[0m\u001b[0;36m1\u001b[0m\u001b[0;34m)\u001b[0m\u001b[0;34m]\u001b[0m\u001b[0;34m+=\u001b[0m\u001b[0mInteger\u001b[0m\u001b[0;34m(\u001b[0m\u001b[0;36m1\u001b[0m\u001b[0;34m)\u001b[0m\u001b[0;34m\u001b[0m\u001b[0;34m\u001b[0m\u001b[0m\n\u001b[1;32m      8\u001b[0m         \u001b[0mprint\u001b[0m\u001b[0;34m(\u001b[0m\u001b[0;34m*\u001b[0m\u001b[0mline\u001b[0m\u001b[0;34m)\u001b[0m\u001b[0;34m\u001b[0m\u001b[0;34m\u001b[0m\u001b[0m\n",
      "\u001b[0;31mNameError\u001b[0m: name 'cat_p' is not defined"
     ]
    }
   ],
   "source": [
    "n = 4\n",
    "m = 4\n",
    "for mi in range(1, m+1):\n",
    "    for ni in range(1, n+1):\n",
    "        line = [0]*ni\n",
    "        for pm in cat_p(ni, mi):\n",
    "            line[fxp(pm, mi)-1]+=1\n",
    "        print(*line)\n",
    "    print(\"*\"*10)\n",
    "    "
   ]
  },
  {
   "cell_type": "code",
   "execution_count": 62,
   "id": "f8d38dfe",
   "metadata": {},
   "outputs": [
    {
     "name": "stdout",
     "output_type": "stream",
     "text": [
      "[{C: -1/2*(I*sqrt(3) + 1)*(1/6*sqrt(1/3)*sqrt((27*z - 4)/z)/z - 1/2/z)^(1/3) - 1/6*(-I*sqrt(3) + 1)/(z*(1/6*sqrt(1/3)*sqrt((27*z - 4)/z)/z - 1/2/z)^(1/3))}, {C: -1/2*(-I*sqrt(3) + 1)*(1/6*sqrt(1/3)*sqrt((27*z - 4)/z)/z - 1/2/z)^(1/3) - 1/6*(I*sqrt(3) + 1)/(z*(1/6*sqrt(1/3)*sqrt((27*z - 4)/z)/z - 1/2/z)^(1/3))}, {C: (1/6*sqrt(1/3)*sqrt((27*z - 4)/z)/z - 1/2/z)^(1/3) + 1/3/(z*(1/6*sqrt(1/3)*sqrt((27*z - 4)/z)/z - 1/2/z)^(1/3))}]\n"
     ]
    }
   ],
   "source": [
    "# C, z , q, Cq= var('C,z, q, Cq')                                                             # needs sage.symbolic\n",
    "# sys = [ C == 1 + z*C*C ]   \n",
    "# sol = solve(sys, C, solution_dict=True); sol  \n",
    "# sys2 = [ Cq == 1 + q*z*(-1/2*(sqrt(-4*z + 1) - 1)/z)*Cq ] # needs sage.symbolic\n",
    "# sol2 = solve(sys2, Cq, solution_dict=True); sol2\n",
    "# # [{C: -1/2*sqrt(-4*z + 1) + 1/2}, {C: 1/2*sqrt(-4*z + 1) + 1/2}]\n",
    "# # s0 = sol[0][Cq]; s1 = sol[1][Cq]\n",
    "# c0 = sol2[0][Cq]\n",
    "# print(sol, sol2)\n",
    "import sage.combinat.combinat\n",
    "m = 3\n",
    "C, z , q, Cq= var('C,z, q, Cq')                                                             # needs sage.symbolic\n",
    "sys = [ C == 1 + z*C*C*C]   \n",
    "sol = solve(sys, C, solution_dict=True); sol  \n",
    "# sys2 = [ Cq == 1 + q*z*(-1/2*(sqrt(-4*z + 1) - 1)/z)*Cq ] # needs sage.symbolic\n",
    "# sol2 = solve(sys2, Cq, solution_dict=True); sol2\n",
    "# [{C: -1/2*sqrt(-4*z + 1) + 1/2}, {C: 1/2*sqrt(-4*z + 1) + 1/2}]\n",
    "s0 = sol[0][C]; s1 = sol[1][C]\n",
    "# c0 = sol2[0][Cq]\n",
    "# print(sol, sol2)\n",
    "print(sol)"
   ]
  },
  {
   "cell_type": "code",
   "execution_count": 63,
   "id": "c45f736f",
   "metadata": {
    "scrolled": true
   },
   "outputs": [
    {
     "name": "stdout",
     "output_type": "stream",
     "text": [
      "[1, 1, 1, 1, 1] [1, 1, 1, 1, 1] []\n",
      "[1, 1, 1, 1, 2] [1, 1, 1, 1, 2] []\n",
      "[1, 1, 1, 1, 3] [1, 1, 1, 1, 3] []\n",
      "[1, 1, 1, 1, 4] [1, 1, 1, 1, 4] []\n",
      "[1, 1, 1, 1, 5] [1, 1, 1, 1, 5] []\n",
      "[1, 1, 1, 1, 6] [1, 1, 1, 1, 6] []\n",
      "[1, 1, 1, 1, 7] [1, 1, 1, 1, 7] []\n",
      "[1, 1, 1, 1, 8] [1, 1, 1, 1, 8] []\n",
      "[1, 1, 1, 2, 2] [1, 1, 1, 2, 2] []\n",
      "[1, 1, 1, 2, 3] [1, 1, 1, 2, 3] []\n",
      "[1, 1, 1, 2, 4] [1, 1, 1, 2, 4] []\n",
      "[1, 1, 1, 2, 5] [1, 1, 1, 2, 5] []\n",
      "[1, 1, 1, 2, 6] [1, 1, 1, 2, 6] []\n",
      "[1, 1, 1, 2, 7] [1, 1, 1, 2, 7] []\n",
      "[1, 1, 1, 2, 8] [1, 1, 1, 2, 8] []\n",
      "[1, 1, 1, 3, 3] [1, 1, 1, 3, 3] []\n",
      "[1, 1, 1, 3, 4] [1, 1, 1, 3, 4] []\n",
      "[1, 1, 1, 3, 5] [1, 1, 1, 3, 5] []\n",
      "[1, 1, 1, 3, 6] [1, 1, 1, 3, 6] []\n",
      "[1, 1, 1, 3, 7] [1, 1, 1, 3, 7] []\n",
      "[1, 1, 1, 3, 8] [1, 1, 1, 3, 8] []\n",
      "[1, 1, 1, 4, 4] [1, 1, 1, 4, 4] []\n",
      "[1, 1, 1, 4, 5] [1, 1, 1, 4, 5] []\n",
      "[1, 1, 1, 4, 6] [1, 1, 1, 4, 6] []\n",
      "[1, 1, 1, 4, 7] [1, 1, 1, 4, 7] []\n",
      "[1, 1, 1, 4, 8] [1, 1, 1, 4, 8] []\n",
      "[1, 1, 1, 5, 5] [1, 1, 1, 5, 5] []\n",
      "[1, 1, 1, 5, 6] [1, 1, 1, 5, 6] []\n",
      "[1, 1, 1, 5, 7] [1, 1, 1, 5, 7] []\n",
      "[1, 1, 1, 5, 8] [1, 1, 1, 5, 8] []\n",
      "[1, 1, 1, 6, 6] [1, 1, 1, 6, 6] []\n",
      "[1, 1, 1, 6, 7] [1, 1, 1, 6, 7] []\n",
      "[1, 1, 1, 6, 8] [1, 1, 1, 6, 8] []\n",
      "[1, 1, 2, 2, 2] [1, 1, 2, 2, 2] []\n",
      "[1, 1, 2, 2, 3] [1, 1, 2, 2, 3] []\n",
      "[1, 1, 2, 2, 4] [1, 1, 2, 2, 4] []\n",
      "[1, 1, 2, 2, 5] [1, 1, 2, 2, 5] []\n",
      "[1, 1, 2, 2, 6] [1, 1, 2, 2, 6] []\n",
      "[1, 1, 2, 2, 7] [1, 1, 2, 2, 7] []\n",
      "[1, 1, 2, 2, 8] [1, 1, 2, 2, 8] []\n",
      "[1, 1, 2, 3, 3] [1, 1, 2, 3, 3] []\n",
      "[1, 1, 2, 3, 4] [1, 1, 2, 3, 4] []\n",
      "[1, 1, 2, 3, 5] [1, 1, 2, 3, 5] []\n",
      "[1, 1, 2, 3, 6] [1, 1, 2, 3, 6] []\n",
      "[1, 1, 2, 3, 7] [1, 1, 2, 3, 7] []\n",
      "[1, 1, 2, 3, 8] [1, 1, 2, 3, 8] []\n",
      "[1, 1, 2, 4, 4] [1, 1, 2, 4, 4] []\n",
      "[1, 1, 2, 4, 5] [1, 1, 2, 4, 5] []\n",
      "[1, 1, 2, 4, 6] [1, 1, 2, 4, 6] []\n",
      "[1, 1, 2, 4, 7] [1, 1, 2, 4, 7] []\n",
      "[1, 1, 2, 4, 8] [1, 1, 2, 4, 8] []\n",
      "[1, 1, 2, 5, 5] [1, 1, 2, 5, 5] []\n",
      "[1, 1, 2, 5, 6] [1, 1, 2, 5, 6] []\n",
      "[1, 1, 2, 5, 7] [1, 1, 2, 5, 7] []\n",
      "[1, 1, 2, 5, 8] [1, 1, 2, 5, 8] []\n",
      "[1, 1, 2, 6, 6] [1, 1, 2, 6, 6] []\n",
      "[1, 1, 2, 6, 7] [1, 1, 2, 6, 7] []\n",
      "[1, 1, 2, 6, 8] [1, 1, 2, 6, 8] []\n",
      "[1, 1, 3, 3, 3] [1, 1, 3, 3, 3] []\n",
      "[1, 1, 3, 3, 4] [1, 1, 3, 3, 4] []\n",
      "[1, 1, 3, 3, 5] [1, 1, 3, 3, 5] []\n",
      "[1, 1, 3, 3, 6] [1, 1, 3, 3, 6] []\n",
      "[1, 1, 3, 3, 7] [1, 1, 3, 3, 7] []\n",
      "[1, 1, 3, 3, 8] [1, 1, 3, 3, 8] []\n",
      "[1, 1, 3, 4, 4] [1, 1, 3, 4, 4] []\n",
      "[1, 1, 3, 4, 5] [1, 1, 3, 4, 5] []\n",
      "[1, 1, 3, 4, 6] [1, 1, 3, 4, 6] []\n",
      "[1, 1, 3, 4, 7] [1, 1, 3, 4, 7] []\n",
      "[1, 1, 3, 4, 8] [1, 1, 3, 4, 8] []\n",
      "[1, 1, 3, 5, 5] [1, 1, 3, 5, 5] []\n",
      "[1, 1, 3, 5, 6] [1, 1, 3, 5, 6] []\n",
      "[1, 1, 3, 5, 7] [1, 1, 3, 5, 7] []\n",
      "[1, 1, 3, 5, 8] [1, 1, 3, 5, 8] []\n",
      "[1, 1, 3, 6, 6] [1, 1, 3, 6, 6] []\n",
      "[1, 1, 3, 6, 7] [1, 1, 3, 6, 7] []\n",
      "[1, 1, 3, 6, 8] [1, 1, 3, 6, 8] []\n",
      "[1, 1, 4, 4, 4] [1, 1, 4, 4, 4] []\n",
      "[1, 1, 4, 4, 5] [1, 1, 4, 4, 5] []\n",
      "[1, 1, 4, 4, 6] [1, 1, 4, 4, 6] []\n",
      "[1, 1, 4, 4, 7] [1, 1, 4, 4, 7] []\n",
      "[1, 1, 4, 4, 8] [1, 1, 4, 4, 8] []\n",
      "[1, 1, 4, 5, 5] [1, 1, 4, 5, 5] []\n",
      "[1, 1, 4, 5, 6] [1, 1, 4, 5, 6] []\n",
      "[1, 1, 4, 5, 7] [1, 1, 4, 5, 7] []\n",
      "[1, 1, 4, 5, 8] [1, 1, 4, 5, 8] []\n",
      "[1, 1, 4, 6, 6] [1, 1, 4, 6, 6] []\n",
      "[1, 1, 4, 6, 7] [1, 1, 4, 6, 7] []\n",
      "[1, 1, 4, 6, 8] [1, 1, 4, 6, 8] []\n",
      "[1, 2, 2, 2, 2] [1, 2, 2, 2, 2] []\n",
      "[1, 2, 2, 2, 3] [1, 2, 2, 2, 3] []\n",
      "[1, 2, 2, 2, 4] [1, 2, 2, 2, 4] []\n",
      "[1, 2, 2, 2, 5] [1, 2, 2, 2, 5] []\n",
      "[1, 2, 2, 2, 6] [1, 2, 2, 2, 6] []\n",
      "[1, 2, 2, 2, 7] [1, 2, 2, 2, 7] []\n",
      "[1, 2, 2, 2, 8] [1, 2, 2, 2, 8] []\n",
      "[1, 2, 2, 3, 3] [1, 2, 2, 3, 3] []\n",
      "[1, 2, 2, 3, 4] [1, 2, 2, 3, 4] []\n",
      "[1, 2, 2, 3, 5] [1, 2, 2, 3, 5] []\n",
      "[1, 2, 2, 3, 6] [1, 2, 2, 3, 6] []\n",
      "[1, 2, 2, 3, 7] [1, 2, 2, 3, 7] []\n",
      "[1, 2, 2, 3, 8] [1, 2, 2, 3, 8] []\n",
      "[1, 2, 2, 4, 4] [1, 2, 2, 4, 4] []\n",
      "[1, 2, 2, 4, 5] [1, 2, 2, 4, 5] []\n",
      "[1, 2, 2, 4, 6] [1, 2, 2, 4, 6] []\n",
      "[1, 2, 2, 4, 7] [1, 2, 2, 4, 7] []\n",
      "[1, 2, 2, 4, 8] [1, 2, 2, 4, 8] []\n",
      "[1, 2, 2, 5, 5] [1, 2, 2, 5, 5] []\n",
      "[1, 2, 2, 5, 6] [1, 2, 2, 5, 6] []\n",
      "[1, 2, 2, 5, 7] [1, 2, 2, 5, 7] []\n",
      "[1, 2, 2, 5, 8] [1, 2, 2, 5, 8] []\n",
      "[1, 2, 2, 6, 6] [1, 2, 2, 6, 6] []\n",
      "[1, 2, 2, 6, 7] [1, 2, 2, 6, 7] []\n",
      "[1, 2, 2, 6, 8] [1, 2, 2, 6, 8] []\n",
      "[1, 2, 3, 3, 3] [1, 2, 3, 3, 3] []\n",
      "[1, 2, 3, 3, 4] [1, 2, 3, 3, 4] []\n",
      "[1, 2, 3, 3, 5] [1, 2, 3, 3, 5] []\n",
      "[1, 2, 3, 3, 6] [1, 2, 3, 3, 6] []\n",
      "[1, 2, 3, 3, 7] [1, 2, 3, 3, 7] []\n",
      "[1, 2, 3, 3, 8] [1, 2, 3, 3, 8] []\n",
      "[1, 2, 3, 4, 4] [1, 2, 3, 4, 4] []\n",
      "[1, 2, 3, 4, 5] [1, 2, 3, 4, 5] []\n",
      "[1, 2, 3, 4, 6] [1, 2, 3, 4, 6] []\n",
      "[1, 2, 3, 4, 7] [1, 2, 3, 4, 7] []\n",
      "[1, 2, 3, 4, 8] [1, 2, 3, 4, 8] []\n",
      "[1, 2, 3, 5, 5] [1, 2, 3, 5, 5] []\n",
      "[1, 2, 3, 5, 6] [1, 2, 3, 5, 6] []\n",
      "[1, 2, 3, 5, 7] [1, 2, 3, 5, 7] []\n",
      "[1, 2, 3, 5, 8] [1, 2, 3, 5, 8] []\n",
      "[1, 2, 3, 6, 6] [1, 2, 3, 6, 6] []\n",
      "[1, 2, 3, 6, 7] [1, 2, 3, 6, 7] []\n",
      "[1, 2, 3, 6, 8] [1, 2, 3, 6, 8] []\n",
      "[1, 2, 4, 4, 4] [1, 2, 4, 4, 4] []\n",
      "[1, 2, 4, 4, 5] [1, 2, 4, 4, 5] []\n",
      "[1, 2, 4, 4, 6] [1, 2, 4, 4, 6] []\n",
      "[1, 2, 4, 4, 7] [1, 2, 4, 4, 7] []\n",
      "[1, 2, 4, 4, 8] [1, 2, 4, 4, 8] []\n",
      "[1, 2, 4, 5, 5] [1, 2, 4, 5, 5] []\n",
      "[1, 2, 4, 5, 6] [1, 2, 4, 5, 6] []\n",
      "[1, 2, 4, 5, 7] [1, 2, 4, 5, 7] []\n",
      "[1, 2, 4, 5, 8] [1, 2, 4, 5, 8] []\n",
      "[1, 2, 4, 6, 6] [1, 2, 4, 6, 6] []\n",
      "[1, 2, 4, 6, 7] [1, 2, 4, 6, 7] []\n",
      "[1, 2, 4, 6, 8] [1, 2, 4, 6, 8] []\n",
      "143\n"
     ]
    }
   ],
   "source": [
    "def ffp(p, m):\n",
    "    i = 1\n",
    "    for pi in p[1:]:\n",
    "        if pi == m*i + 1:\n",
    "            break\n",
    "        i+=1\n",
    "    return i\n",
    "\n",
    "n = 5\n",
    "m = 2\n",
    "count = 0\n",
    "for pm in pd_m(n, m):\n",
    "    i = ffp(pm, m)\n",
    "    if i == n and pm[-1]:\n",
    "        print(pm, pm[:i], pm[i:])\n",
    "        count += 1\n",
    "print(count)"
   ]
  },
  {
   "cell_type": "code",
   "execution_count": 64,
   "id": "543590e2",
   "metadata": {},
   "outputs": [],
   "source": [
    "n = 3\n",
    "m = 2\n"
   ]
  },
  {
   "cell_type": "code",
   "execution_count": null,
   "id": "9e13744b",
   "metadata": {},
   "outputs": [],
   "source": []
  },
  {
   "cell_type": "code",
   "execution_count": null,
   "id": "d2892d06",
   "metadata": {},
   "outputs": [],
   "source": []
  },
  {
   "cell_type": "code",
   "execution_count": null,
   "id": "df38d771",
   "metadata": {},
   "outputs": [],
   "source": []
  },
  {
   "cell_type": "code",
   "execution_count": null,
   "id": "bf9335f8",
   "metadata": {},
   "outputs": [],
   "source": []
  },
  {
   "cell_type": "code",
   "execution_count": null,
   "id": "9928f695",
   "metadata": {},
   "outputs": [],
   "source": []
  },
  {
   "cell_type": "code",
   "execution_count": null,
   "id": "87ffa4c6",
   "metadata": {},
   "outputs": [],
   "source": []
  },
  {
   "cell_type": "code",
   "execution_count": null,
   "id": "abe1aeb5",
   "metadata": {},
   "outputs": [],
   "source": []
  },
  {
   "cell_type": "code",
   "execution_count": null,
   "id": "05083ab1",
   "metadata": {},
   "outputs": [],
   "source": []
  }
 ],
 "metadata": {
  "kernelspec": {
   "display_name": "SageMath 9.5",
   "language": "sage",
   "name": "sagemath"
  },
  "language_info": {
   "codemirror_mode": {
    "name": "ipython",
    "version": 3
   },
   "file_extension": ".py",
   "mimetype": "text/x-python",
   "name": "python",
   "nbconvert_exporter": "python",
   "pygments_lexer": "ipython3",
   "version": "3.10.12"
  }
 },
 "nbformat": 4,
 "nbformat_minor": 5
}
