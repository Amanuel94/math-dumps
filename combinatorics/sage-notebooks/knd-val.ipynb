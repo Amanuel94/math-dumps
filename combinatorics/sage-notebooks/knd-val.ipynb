{
 "cells": [
  {
   "cell_type": "code",
   "execution_count": 11,
   "metadata": {},
   "outputs": [
    {
     "data": {
      "text/plain": [
       "['204I803958']"
      ]
     },
     "execution_count": 11,
     "metadata": {},
     "output_type": "execute_result"
    }
   ],
   "source": [
    "('204i803958'.upper()).split(\"E\")"
   ]
  },
  {
   "cell_type": "code",
   "execution_count": 12,
   "metadata": {},
   "outputs": [
    {
     "data": {
      "text/plain": [
       "0"
      ]
     },
     "execution_count": 12,
     "metadata": {},
     "output_type": "execute_result"
    }
   ],
   "source": [
    "('-9343').rindex('-')"
   ]
  },
  {
   "cell_type": "code",
   "execution_count": 15,
   "metadata": {},
   "outputs": [
    {
     "ename": "ImportError",
     "evalue": "cannot import name ZZ",
     "output_type": "error",
     "traceback": [
      "\u001b[0;31m---------------------------------------------------------------------------\u001b[0m",
      "\u001b[0;31mImportError\u001b[0m                               Traceback (most recent call last)",
      "Cell \u001b[0;32mIn[15], line 1\u001b[0m\n\u001b[0;32m----> 1\u001b[0m \u001b[38;5;28;01mfrom\u001b[39;00m \u001b[38;5;21;01msage\u001b[39;00m\u001b[38;5;21;01m.\u001b[39;00m\u001b[38;5;21;01mcombinat\u001b[39;00m\u001b[38;5;21;01m.\u001b[39;00m\u001b[38;5;21;01mdyck_word\u001b[39;00m \u001b[38;5;28;01mimport\u001b[39;00m DyckWord\n\u001b[1;32m      2\u001b[0m DyckWord([\u001b[38;5;241m1\u001b[39m, \u001b[38;5;241m0\u001b[39m, \u001b[38;5;241m1\u001b[39m, \u001b[38;5;241m0\u001b[39m])\u001b[38;5;241m.\u001b[39mnumber_of_touch_points()\n",
      "File \u001b[0;32m/usr/lib/python3/dist-packages/sage/combinat/dyck_word.py:83\u001b[0m\n\u001b[1;32m     80\u001b[0m \u001b[38;5;28;01mfrom\u001b[39;00m \u001b[38;5;21;01m__future__\u001b[39;00m \u001b[38;5;28;01mimport\u001b[39;00m annotations\n\u001b[1;32m     81\u001b[0m \u001b[38;5;28;01mfrom\u001b[39;00m \u001b[38;5;21;01mtyping\u001b[39;00m \u001b[38;5;28;01mimport\u001b[39;00m Iterator\n\u001b[0;32m---> 83\u001b[0m \u001b[38;5;28;01mfrom\u001b[39;00m \u001b[38;5;21;01m.\u001b[39;00m\u001b[38;5;21;01mcombinat\u001b[39;00m \u001b[38;5;28;01mimport\u001b[39;00m CombinatorialElement, catalan_number\n\u001b[1;32m     84\u001b[0m \u001b[38;5;28;01mfrom\u001b[39;00m \u001b[38;5;21;01msage\u001b[39;00m\u001b[38;5;21;01m.\u001b[39;00m\u001b[38;5;21;01mcombinat\u001b[39;00m\u001b[38;5;21;01m.\u001b[39;00m\u001b[38;5;21;01mcombinatorial_map\u001b[39;00m \u001b[38;5;28;01mimport\u001b[39;00m combinatorial_map\n\u001b[1;32m     85\u001b[0m \u001b[38;5;28;01mfrom\u001b[39;00m \u001b[38;5;21;01m.\u001b[39;00m\u001b[38;5;21;01mbacktrack\u001b[39;00m \u001b[38;5;28;01mimport\u001b[39;00m GenericBacktracker\n",
      "File \u001b[0;32m/usr/lib/python3/dist-packages/sage/combinat/combinat.py:154\u001b[0m\n\u001b[1;32m    151\u001b[0m \u001b[38;5;28;01mfrom\u001b[39;00m \u001b[38;5;21;01m__future__\u001b[39;00m \u001b[38;5;28;01mimport\u001b[39;00m annotations\n\u001b[1;32m    152\u001b[0m \u001b[38;5;28;01mfrom\u001b[39;00m \u001b[38;5;21;01mtyping\u001b[39;00m \u001b[38;5;28;01mimport\u001b[39;00m Iterator\n\u001b[0;32m--> 154\u001b[0m \u001b[38;5;28;01mfrom\u001b[39;00m \u001b[38;5;21;01msage\u001b[39;00m\u001b[38;5;21;01m.\u001b[39;00m\u001b[38;5;21;01mrings\u001b[39;00m\u001b[38;5;21;01m.\u001b[39;00m\u001b[38;5;21;01minteger_ring\u001b[39;00m \u001b[38;5;28;01mimport\u001b[39;00m ZZ\n\u001b[1;32m    155\u001b[0m \u001b[38;5;28;01mfrom\u001b[39;00m \u001b[38;5;21;01msage\u001b[39;00m\u001b[38;5;21;01m.\u001b[39;00m\u001b[38;5;21;01mrings\u001b[39;00m\u001b[38;5;21;01m.\u001b[39;00m\u001b[38;5;21;01mrational_field\u001b[39;00m \u001b[38;5;28;01mimport\u001b[39;00m QQ\n\u001b[1;32m    156\u001b[0m \u001b[38;5;28;01mfrom\u001b[39;00m \u001b[38;5;21;01msage\u001b[39;00m\u001b[38;5;21;01m.\u001b[39;00m\u001b[38;5;21;01mrings\u001b[39;00m\u001b[38;5;21;01m.\u001b[39;00m\u001b[38;5;21;01minteger\u001b[39;00m \u001b[38;5;28;01mimport\u001b[39;00m Integer\n",
      "File \u001b[0;32m/usr/lib/python3/dist-packages/sage/rings/integer_ring.pyx:1\u001b[0m, in \u001b[0;36minit sage.rings.integer_ring (build/cythonized/sage/rings/integer_ring.c:18154)\u001b[0;34m()\u001b[0m\n\u001b[0;32m----> 1\u001b[0m r\"\"\"\n\u001b[1;32m      2\u001b[0m Ring `\\ZZ` of Integers\n\u001b[1;32m      3\u001b[0m \n",
      "File \u001b[0;32m/usr/lib/python3/dist-packages/sage/rings/integer.pyx:1\u001b[0m, in \u001b[0;36minit sage.rings.integer (build/cythonized/sage/rings/integer.c:53807)\u001b[0;34m()\u001b[0m\n\u001b[0;32m----> 1\u001b[0m r\"\"\"\n\u001b[1;32m      2\u001b[0m Elements of the ring `\\ZZ` of integers\n\u001b[1;32m      3\u001b[0m \n",
      "File \u001b[0;32m/usr/lib/python3/dist-packages/sage/rings/rational.pyx:79\u001b[0m, in \u001b[0;36minit sage.rings.rational (build/cythonized/sage/rings/rational.cpp:40179)\u001b[0;34m()\u001b[0m\n\u001b[1;32m     77\u001b[0m from .integer cimport Integer\n\u001b[1;32m     78\u001b[0m \n\u001b[0;32m---> 79\u001b[0m from .integer_ring import ZZ\n\u001b[1;32m     80\u001b[0m from sage.arith.rational_reconstruction cimport mpq_rational_reconstruction\n\u001b[1;32m     81\u001b[0m \n",
      "\u001b[0;31mImportError\u001b[0m: cannot import name ZZ"
     ]
    }
   ],
   "source": [
    "\n",
    "import sage \n",
    "sage.combinat.dyck_word  DyckWord([1, 0, 1, 0]).number_of_touch_points()"
   ]
  }
 ],
 "metadata": {
  "kernelspec": {
   "display_name": "Python 3",
   "language": "python",
   "name": "python3"
  },
  "language_info": {
   "codemirror_mode": {
    "name": "ipython",
    "version": 3
   },
   "file_extension": ".py",
   "mimetype": "text/x-python",
   "name": "python",
   "nbconvert_exporter": "python",
   "pygments_lexer": "ipython3",
   "version": "3.10.12"
  }
 },
 "nbformat": 4,
 "nbformat_minor": 2
}
