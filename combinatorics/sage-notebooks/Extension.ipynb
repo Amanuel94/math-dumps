{
 "cells": [
  {
   "cell_type": "code",
   "execution_count": 1,
   "id": "3e39dace",
   "metadata": {},
   "outputs": [
    {
     "name": "stdout",
     "output_type": "stream",
     "text": [
      "1 4 22 140 969 7084 53820 420732 3362260 27343888 "
     ]
    }
   ],
   "source": [
    "import math\n",
    "\n",
    "m = 4\n",
    "n = 10\n",
    "cur = 0\n",
    "for ni in range(1, n+1):\n",
    "    cur += math.comb(m*ni + 1, ni)//(m*ni+1)\n",
    "    print(math.comb(m*ni + 1, ni)//(m*ni+1), end = \" \")\n",
    "#     print(cur/, end = \" \")\n",
    "    "
   ]
  },
  {
   "cell_type": "code",
   "execution_count": 2,
   "id": "d2ee5a8b",
   "metadata": {},
   "outputs": [],
   "source": [
    "def op(n, m):\n",
    "    if n == 0:\n",
    "        return [[]]\n",
    "    if n == 1:\n",
    "        return [[i] for i in range(1, m+1)]\n",
    "    \n",
    "    ans = []\n",
    "    prev = op(n-1, m)\n",
    "    for pi in prev:\n",
    "        for k in range(pi[-1], m*n+1):\n",
    "            ans.append((pi + [k])[:])\n",
    "    return ans\n",
    "    "
   ]
  },
  {
   "cell_type": "code",
   "execution_count": 3,
   "id": "510e5821",
   "metadata": {},
   "outputs": [],
   "source": [
    "def Cat(n, m):\n",
    "    ans = []\n",
    "    for ni in range(n+1):\n",
    "        ans.append(math.comb(m*ni + 1, ni)//(m*ni+1))\n",
    "    return ans"
   ]
  },
  {
   "cell_type": "code",
   "execution_count": 4,
   "id": "8522733b",
   "metadata": {},
   "outputs": [
    {
     "data": {
      "text/plain": [
       "1"
      ]
     },
     "execution_count": 4,
     "metadata": {},
     "output_type": "execute_result"
    }
   ],
   "source": [
    "len(op(0, 5))"
   ]
  },
  {
   "cell_type": "markdown",
   "id": "0c68d0ef",
   "metadata": {},
   "source": [
    "If $u = (m, 2m, \\dots, mn)$, then the number of such $u$-parking distributions is \n",
    "$$C^{(m)}_n = \\sum \\prod_{j \\vdash n} C_j^{m}$$"
   ]
  },
  {
   "cell_type": "code",
   "execution_count": 5,
   "id": "ce8dc4e3",
   "metadata": {},
   "outputs": [
    {
     "name": "stdout",
     "output_type": "stream",
     "text": [
      "1 1 6 51 506 5481 62832 749398 9203634 115607310 1478314266\n"
     ]
    }
   ],
   "source": [
    "print(*Cat(10, 6))"
   ]
  },
  {
   "cell_type": "code",
   "execution_count": 6,
   "id": "0b23d038",
   "metadata": {},
   "outputs": [
    {
     "name": "stdout",
     "output_type": "stream",
     "text": [
      "3 10 53 332 2278 16562 125350 977184 7792532\n"
     ]
    }
   ],
   "source": [
    "def conv(p):\n",
    "    ans = 0\n",
    "    for i in range(len(p)):\n",
    "        ans += p[i]*p[-i-1]\n",
    "    return ans\n",
    "\n",
    "s = []\n",
    "for i in range(1, 10):\n",
    "    s.append(conv([1] + Cat(i,4)))\n",
    "print(*s)"
   ]
  },
  {
   "cell_type": "markdown",
   "id": "e000d4ea",
   "metadata": {},
   "source": [
    "Some sequences \n",
    "$$B_n^{(m)} := |a_1, \\dots, a_n : a_i \\leq mi| $$\n",
    "\n",
    "$$B_n^{(m)} := \\sum_{n_1 + \\cdots + n_m = n} \\prod_{i = 1}^m C_{n_i}^{(m)}$$\n",
    "\n",
    "which implies \n",
    "\n",
    "$$B_m(x) = C^m_m(x)$$.\n",
    "\n",
    "Define \n",
    "$$C_{n, k}^{(m)} := |\\{(a_1, \\dots, a_n)| a_i \\leq m(i+k-1) + 1 \\}$$.\n",
    "Then we have:\n",
    "$$C_{n, k}^{(m)} = \\sum_{i = 0}^n B^{(m)}_{i} C_{n-i, k-1}^{(m)},$$\n",
    "\n",
    "which in turn implies,\n",
    "\n",
    "$$\\begin{align}\n",
    "C_m(x; k) & = &. B_m(x)C_m(x;k-1 )\\\\\n",
    "& = & C_m^m(x)C_m(x;k-1)\\\\\n",
    " & = & C_m^{km + 1}(x)\n",
    "\\end{align}$$"
   ]
  },
  {
   "cell_type": "markdown",
   "id": "be2bc00d",
   "metadata": {},
   "source": [
    "$h_{n, k}^{(m)}$ = the number of prime $m$-NPFs such that $\\mathrm{greed}(p) = k.$  "
   ]
  },
  {
   "cell_type": "markdown",
   "id": "3ebd0f21",
   "metadata": {},
   "source": [
    "$$h_{n, k}^{(m)} = |\\{(a_1, \\dots, a_n) : 2 \\leq a_i \\leq m(i+k-1) \\}|$$\n",
    "$$i_{n, k}^{(m)} = |\\{(a_1, \\dots, a_n) : 1 \\leq a_i \\leq m(i+k-1) \\}|$$"
   ]
  },
  {
   "cell_type": "markdown",
   "id": "5749d3fa",
   "metadata": {},
   "source": [
    "$$h_{n, k, r}^{(m)} = |\\{(a_1, \\dots, a_n) : 1 \\leq a_i \\leq m(i+k-1) - r  \\}|$$\n"
   ]
  },
  {
   "cell_type": "markdown",
   "id": "d7800053",
   "metadata": {},
   "source": [
    "$$h_{n, k, r}^{(m)} = i_{n, k, r+1}^{(m)}$$"
   ]
  },
  {
   "cell_type": "markdown",
   "id": "82cbb8ca",
   "metadata": {},
   "source": [
    "$$h^{(2)}_{n, k, 0} = \\sum_{j = 0}^n h^{(2)}_{n-j, k, 1}h^{(2)}_{j, 1, 1}$$\n"
   ]
  },
  {
   "cell_type": "markdown",
   "id": "14cb540b",
   "metadata": {},
   "source": [
    "$$\\implies H_2(x; k, 0) = H_2(x;k,1)C_2(x)$$"
   ]
  },
  {
   "cell_type": "markdown",
   "id": "491001dd",
   "metadata": {},
   "source": [
    "$$h^{(2)}_{n, k, 1} = \\sum_{j = 0}^n h^{(2)}_{n-j, k-1, 0}h^{(2)}_{j, 1, 1}$$\n",
    "$$\\implies H_2(x; k, 1) = H_2(x;k-1,0)C_2(x)$$\n"
   ]
  },
  {
   "cell_type": "markdown",
   "id": "c8b93b19",
   "metadata": {},
   "source": [
    "Thus,\n",
    "    $$H_2(x; k, r) = C_2^{2k-2+r}(x)$$"
   ]
  },
  {
   "cell_type": "markdown",
   "id": "ce4a4588",
   "metadata": {},
   "source": [
    "If $0\\leq r < m -1$, then\n",
    "$$h^{(m)}_{n, k, r} = \\sum_{j = 0}^n h^{(m)}_{n-j, k, r+1}h^{(m)}_{j, 1, m-1}$$\n",
    "$$\\implies H_m(x; k, r) = H_m(x;k,r+1)C_m(x)$$\n"
   ]
  },
  {
   "cell_type": "markdown",
   "id": "e551bd54",
   "metadata": {},
   "source": [
    "$$h^{(m)}_{n, k, m-1} = \\sum_{j = 0}^n h^{(m)}_{n-j, k-1, 0}h^{(m)}_{j, 1, m-1}$$\n",
    "$$\\implies H_m(x; k, m-1) = H_m(x;k-1,0)C_m(x)$$\n"
   ]
  },
  {
   "cell_type": "markdown",
   "id": "82f25d4a",
   "metadata": {},
   "source": [
    "Thus,\n",
    "$$H_m(x;k,r) = C_m^{mk - r}(x)$$"
   ]
  },
  {
   "cell_type": "markdown",
   "id": "5bce0dd4",
   "metadata": {},
   "source": [
    "Decompse $p \\in \\mathcal{PK^{(2)}}(n)$  into $abc$"
   ]
  },
  {
   "cell_type": "code",
   "execution_count": null,
   "id": "256cf107",
   "metadata": {},
   "outputs": [],
   "source": []
  },
  {
   "cell_type": "code",
   "execution_count": null,
   "id": "c10f3d45",
   "metadata": {},
   "outputs": [],
   "source": []
  },
  {
   "cell_type": "markdown",
   "id": "6c30ce0a",
   "metadata": {},
   "source": [
    "$$j^{(m)}_n(t, s, u) = \\sum_{k = 2}^n u^k \\sum_{a}t^{\\mathrm{lucky}(a)} \\sum_{b} s^{\\mathrm{greed}(b)}$$\n",
    "$$ = \\sum_{k = 1}^n u^k \\sum_{a}t^{\\mathrm{lucky}(a)} \\sum_{j = 1}^{k-1} s^{j} C_{k-1-j, j-1}$$\n",
    "$$ = \\sum_{k = 1}^n \\sum_{j = 1}^{k-1} s^{j} C_{k-1-j, j-1} u^k \\sum_{a}t^{\\mathrm{lucky}(a)}$$"
   ]
  },
  {
   "cell_type": "markdown",
   "id": "d69f52db",
   "metadata": {},
   "source": [
    "$$ = t\\sum_{j = 1}^{n-1} s^{j} \\sum_{k = j+1}^{n}  C_{k-1-j, j-1} u^k \\sum_{a}t^{\\mathrm{lucky}(a)}$$"
   ]
  },
  {
   "cell_type": "markdown",
   "id": "54a25bd0",
   "metadata": {},
   "source": [
    "\n",
    "$$ = ts\\sum_{j = 0}^{n-2} s^{j} \\sum_{k = j+2}^{n}  C_{k-2-j, j} u^k R_{n - k + 1}(t)$$"
   ]
  },
  {
   "cell_type": "markdown",
   "id": "445d0ea4",
   "metadata": {},
   "source": [
    "\n",
    "$$ = tsu^2\\sum_{j = 0}^{n-2} s^{j} \\sum_{k = j}^{n-2}  C_{k-j, j} u^k R_{n - k - 1}(t)$$"
   ]
  },
  {
   "cell_type": "markdown",
   "id": "9c03491b",
   "metadata": {},
   "source": [
    "\n",
    "$$ = tsu^2\\sum_{j = 0}^{n-2} s^{j} \\sum_{r = 0}^{n-2-j}  C_{r, j} u^{j+r} R_{n - j - r -1}(t)$$"
   ]
  },
  {
   "cell_type": "markdown",
   "id": "4cfd38fb",
   "metadata": {},
   "source": [
    "\n",
    "$$ = tsu^2\\sum_{j = 0}^{n-2} (us)^{j} \\sum_{r = 0}^{n-2-j}  C_{r, j} u^{r} R_{n - j - r -1}(t)$$"
   ]
  },
  {
   "cell_type": "markdown",
   "id": "16584ced",
   "metadata": {},
   "source": [
    "$f_m(p) := $ the first index $i$ such that $m(i-2)+2 \\leq p_i \\leq m(i-1) + 1 $\n",
    "\n",
    "\n",
    "$g_m(p) := $ the first index $i$ such that $p_i = m(i-1) + 1 $"
   ]
  },
  {
   "cell_type": "markdown",
   "id": "2203f45f",
   "metadata": {},
   "source": [
    "Define\n",
    "$$\\omega_1(p) = |\\{i : p_i = 1\\}|-1$$\n",
    "\n",
    "$$i^{(m)}_n(t, s, u, v) = \\sum_{p \\in \\mathcal{PK}(n, m)} t^{\\mathrm{lucky}(p)-1} s^{\\omega_1(p)} u^{f_m(p)} v^{g_m(p)}$$"
   ]
  },
  {
   "cell_type": "markdown",
   "id": "4b123098",
   "metadata": {},
   "source": [
    "$$\n",
    "\\begin{align}\n",
    "    i^{(m)}_n(t, s, u, v) & = & \\sum_{k=2}^{n+1} \\sum_{r=k}^{n+1} u^k v^r h^{(m)}_{r-l, 1, m-1}\\sum_{a \\in \\mathcal{PK}(k-2, m)} \\sum_{b \\in \\mathcal{PK}(n+1-r, m)} t^{\\mathrm{lucky}(b)} s^{\\omega_1(a)+1}\\\\\n",
    "\\end{align}\n",
    "$$"
   ]
  },
  {
   "cell_type": "markdown",
   "id": "80cc5236",
   "metadata": {},
   "source": [
    "$$\n",
    "\\begin{align}\n",
    " = ts \\sum_{k=2}^{n+1} \\sum_{r=k}^{n+1} u^k v^r h^{(m)}_{r-k, 1, 1}\\sum_{a}s^{\\omega_1(a)} \\sum_{b} t^{\\mathrm{lucky}(b)-1} \n",
    "\\end{align}\n",
    "$$"
   ]
  },
  {
   "cell_type": "markdown",
   "id": "4d6e6743",
   "metadata": {},
   "source": [
    "$$ = ts \\sum_{k=2}^{n+1} \\sum_{r=k}^{n+1} u^k v^r h^{(m)}_{r-k, 1, 1}R_{k-2}^{(m)}(s) R_{n+1-r}^{(m)}(t) $$"
   ]
  },
  {
   "cell_type": "markdown",
   "id": "e67f2bdd",
   "metadata": {},
   "source": [
    "$$ = ts \\sum_{k=0}^{n-1} \\sum_{r=k+2}^{n+1} u^{k+2} v^r h^{(m)}_{r-k-2, 1, 1}R_{k}^{(m)}(s) R_{n+1-r}^{(m)}(t) $$\n",
    "$$= tsu^2 \\sum_{k=0}^{n-1} \\sum_{r=0}^{n-1 - k} u^{k} v^{r+k+2} h^{(m)}_{r, 1, 1} R_{k}^{(m)}(s) R_{n -1 -k-r}^{(m)}(t)$$\n",
    "$$= tsu^2v^2 \\sum_{k=0}^{n-1} \\sum_{r=0}^{n-1 - k} (uv)^{k} v^{r} h^{(m)}_{r, 1, 1}R_{k}^{(m)}(s) R_{n -1 -k-r}^{(m)}(t)$$"
   ]
  },
  {
   "cell_type": "markdown",
   "id": "70505b19",
   "metadata": {},
   "source": [
    "$$= tsu^2v^2 \\sum_{k=0}^{n-1} (uv)^{k} R_{k}^{(m)}(s) \\sum_{r=0}^{n-1 - k} h^{(m)}_{r, 1, 1} v^{r}  R_{n -1 -k-r}^{(m)}(t)$$"
   ]
  },
  {
   "cell_type": "markdown",
   "id": "d7761ba6",
   "metadata": {},
   "source": [
    "$$= tsu^2v^2 \\sum_{k=0}^{n-1} (uv)^{k} R_{k}^{(m)}(s)[x^{n-1-k}] C_m^{m-1}(x)C_m(vx;t)"
   ]
  },
  {
   "cell_type": "markdown",
   "id": "f2fbdd87",
   "metadata": {},
   "source": [
    "$$= [x^n] tsu^2v^2x C_m^{m-1}(x)C_m(uvx;s) C_m(vx;t)$$\n"
   ]
  },
  {
   "cell_type": "markdown",
   "id": "837e2daf",
   "metadata": {},
   "source": [
    "$$I_m(x;t,s,u,v) = 1 + tsx(uv)^2C_m^{m-1}(x)C_m(uvx;s) C_m(vx;t) $$"
   ]
  },
  {
   "cell_type": "code",
   "execution_count": null,
   "id": "ec36c6b3",
   "metadata": {},
   "outputs": [],
   "source": []
  }
 ],
 "metadata": {
  "kernelspec": {
   "display_name": "SageMath 9.5",
   "language": "sage",
   "name": "sagemath"
  },
  "language_info": {
   "codemirror_mode": {
    "name": "ipython",
    "version": 3
   },
   "file_extension": ".py",
   "mimetype": "text/x-python",
   "name": "python",
   "nbconvert_exporter": "python",
   "pygments_lexer": "ipython3",
   "version": "3.10.12"
  }
 },
 "nbformat": 4,
 "nbformat_minor": 5
}
